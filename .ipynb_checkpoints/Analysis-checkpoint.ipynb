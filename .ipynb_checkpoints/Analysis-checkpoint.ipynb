{
 "cells": [
  {
   "cell_type": "code",
   "execution_count": 1,
   "id": "2bff76d0",
   "metadata": {},
   "outputs": [],
   "source": [
    "import pandas as pd\n",
    "import numpy as np\n",
    "import matplotlib as mpl\n",
    "import matplotlib.pyplot as plt\n",
    "import seaborn as sns\n",
    "from datetime import datetime\n",
    "from operator import itemgetter\n",
    "\n",
    "mpl.rc('image', cmap='rocket')"
   ]
  },
  {
   "cell_type": "code",
   "execution_count": 2,
   "id": "f5b2ca01",
   "metadata": {},
   "outputs": [
    {
     "data": {
      "text/html": [
       "<div>\n",
       "<style scoped>\n",
       "    .dataframe tbody tr th:only-of-type {\n",
       "        vertical-align: middle;\n",
       "    }\n",
       "\n",
       "    .dataframe tbody tr th {\n",
       "        vertical-align: top;\n",
       "    }\n",
       "\n",
       "    .dataframe thead th {\n",
       "        text-align: right;\n",
       "    }\n",
       "</style>\n",
       "<table border=\"1\" class=\"dataframe\">\n",
       "  <thead>\n",
       "    <tr style=\"text-align: right;\">\n",
       "      <th></th>\n",
       "      <th>Ticket No</th>\n",
       "      <th>Priority</th>\n",
       "      <th>State</th>\n",
       "      <th>Category</th>\n",
       "      <th>Sub Category</th>\n",
       "      <th>Skill Team</th>\n",
       "      <th>Hosting</th>\n",
       "      <th>Create Date</th>\n",
       "      <th>Picked Date</th>\n",
       "      <th>Completed Date</th>\n",
       "      <th>Assignee</th>\n",
       "      <th>Customer Rating</th>\n",
       "      <th>Outcome</th>\n",
       "      <th>Escalated</th>\n",
       "      <th>Reached via</th>\n",
       "    </tr>\n",
       "  </thead>\n",
       "  <tbody>\n",
       "    <tr>\n",
       "      <th>0</th>\n",
       "      <td>T01</td>\n",
       "      <td>High</td>\n",
       "      <td>California</td>\n",
       "      <td>Data Privacy</td>\n",
       "      <td>GDPR</td>\n",
       "      <td>IT</td>\n",
       "      <td>Vendor Cloud</td>\n",
       "      <td>2021-01-03 12:46:36</td>\n",
       "      <td>2021-01-03 12:48:31</td>\n",
       "      <td>2021-06-03 16:35:26</td>\n",
       "      <td>Bob</td>\n",
       "      <td>Excellent (5)</td>\n",
       "      <td>Advised for a risk assessment</td>\n",
       "      <td>NaN</td>\n",
       "      <td>Personal Call</td>\n",
       "    </tr>\n",
       "    <tr>\n",
       "      <th>1</th>\n",
       "      <td>T02</td>\n",
       "      <td>Low</td>\n",
       "      <td>Minnesota</td>\n",
       "      <td>Cyber Consultation</td>\n",
       "      <td>BCP/DR</td>\n",
       "      <td>IT</td>\n",
       "      <td>On Prem Server</td>\n",
       "      <td>2021-01-04 09:52:44</td>\n",
       "      <td>2021-01-04 10:12:46</td>\n",
       "      <td>2021-01-17 09:44:31</td>\n",
       "      <td>Bob</td>\n",
       "      <td>Excellent (5)</td>\n",
       "      <td>Recommended Threat Assessment</td>\n",
       "      <td>NaN</td>\n",
       "      <td>Ticket Portal</td>\n",
       "    </tr>\n",
       "    <tr>\n",
       "      <th>2</th>\n",
       "      <td>T03</td>\n",
       "      <td>High</td>\n",
       "      <td>Maryland</td>\n",
       "      <td>Cyber Security Breach</td>\n",
       "      <td>Firewall</td>\n",
       "      <td>HR</td>\n",
       "      <td>Vendor Cloud</td>\n",
       "      <td>2021-01-04 10:11:07</td>\n",
       "      <td>2021-01-04 10:11:31</td>\n",
       "      <td>2021-01-04 11:43:40</td>\n",
       "      <td>Allan</td>\n",
       "      <td>Excellent (5)</td>\n",
       "      <td>Recommended Threat Assessment</td>\n",
       "      <td>NaN</td>\n",
       "      <td>Personal Call</td>\n",
       "    </tr>\n",
       "    <tr>\n",
       "      <th>3</th>\n",
       "      <td>T04</td>\n",
       "      <td>Low</td>\n",
       "      <td>New York</td>\n",
       "      <td>Security Gap</td>\n",
       "      <td>Password non-expiry</td>\n",
       "      <td>IT</td>\n",
       "      <td>On Prem Server</td>\n",
       "      <td>2021-01-04 10:55:13</td>\n",
       "      <td>2021-01-04 10:55:31</td>\n",
       "      <td>2021-01-18 11:06:54</td>\n",
       "      <td>Allan</td>\n",
       "      <td>Excellent (5)</td>\n",
       "      <td>Advised for a risk assessment</td>\n",
       "      <td>NaN</td>\n",
       "      <td>Ticket Portal</td>\n",
       "    </tr>\n",
       "    <tr>\n",
       "      <th>4</th>\n",
       "      <td>T05</td>\n",
       "      <td>High</td>\n",
       "      <td>California</td>\n",
       "      <td>Cyber Security Breach</td>\n",
       "      <td>Malware Attack</td>\n",
       "      <td>Legal</td>\n",
       "      <td>On Prem Cloud</td>\n",
       "      <td>2021-01-04 21:58:33</td>\n",
       "      <td>2021-01-04 22:13:03</td>\n",
       "      <td>2021-01-11 12:20:42</td>\n",
       "      <td>Charlotte</td>\n",
       "      <td>Excellent (5)</td>\n",
       "      <td>Recommended Threat Assessment</td>\n",
       "      <td>NaN</td>\n",
       "      <td>Ticket Portal</td>\n",
       "    </tr>\n",
       "  </tbody>\n",
       "</table>\n",
       "</div>"
      ],
      "text/plain": [
       "  Ticket No Priority       State               Category         Sub Category  \\\n",
       "0       T01     High  California           Data Privacy                 GDPR   \n",
       "1       T02      Low   Minnesota     Cyber Consultation               BCP/DR   \n",
       "2       T03     High    Maryland  Cyber Security Breach             Firewall   \n",
       "3       T04      Low    New York           Security Gap  Password non-expiry   \n",
       "4       T05     High  California  Cyber Security Breach       Malware Attack   \n",
       "\n",
       "  Skill Team         Hosting         Create Date         Picked Date  \\\n",
       "0         IT    Vendor Cloud 2021-01-03 12:46:36 2021-01-03 12:48:31   \n",
       "1         IT  On Prem Server 2021-01-04 09:52:44 2021-01-04 10:12:46   \n",
       "2         HR    Vendor Cloud 2021-01-04 10:11:07 2021-01-04 10:11:31   \n",
       "3         IT  On Prem Server 2021-01-04 10:55:13 2021-01-04 10:55:31   \n",
       "4      Legal   On Prem Cloud 2021-01-04 21:58:33 2021-01-04 22:13:03   \n",
       "\n",
       "        Completed Date   Assignee Customer Rating  \\\n",
       "0  2021-06-03 16:35:26        Bob   Excellent (5)   \n",
       "1  2021-01-17 09:44:31        Bob   Excellent (5)   \n",
       "2  2021-01-04 11:43:40      Allan   Excellent (5)   \n",
       "3  2021-01-18 11:06:54      Allan   Excellent (5)   \n",
       "4  2021-01-11 12:20:42  Charlotte   Excellent (5)   \n",
       "\n",
       "                         Outcome Escalated    Reached via  \n",
       "0  Advised for a risk assessment       NaN  Personal Call  \n",
       "1  Recommended Threat Assessment       NaN  Ticket Portal  \n",
       "2  Recommended Threat Assessment       NaN  Personal Call  \n",
       "3  Advised for a risk assessment       NaN  Ticket Portal  \n",
       "4  Recommended Threat Assessment       NaN  Ticket Portal  "
      ]
     },
     "execution_count": 2,
     "metadata": {},
     "output_type": "execute_result"
    }
   ],
   "source": [
    "# Load data\n",
    "data = pd.read_excel('Ticket Details.xlsx')\n",
    "data.head()"
   ]
  },
  {
   "cell_type": "code",
   "execution_count": 3,
   "id": "4031731a",
   "metadata": {},
   "outputs": [
    {
     "data": {
      "text/html": [
       "<div>\n",
       "<style scoped>\n",
       "    .dataframe tbody tr th:only-of-type {\n",
       "        vertical-align: middle;\n",
       "    }\n",
       "\n",
       "    .dataframe tbody tr th {\n",
       "        vertical-align: top;\n",
       "    }\n",
       "\n",
       "    .dataframe thead th {\n",
       "        text-align: right;\n",
       "    }\n",
       "</style>\n",
       "<table border=\"1\" class=\"dataframe\">\n",
       "  <thead>\n",
       "    <tr style=\"text-align: right;\">\n",
       "      <th></th>\n",
       "      <th>Ticket No</th>\n",
       "      <th>Priority</th>\n",
       "      <th>State</th>\n",
       "      <th>Category</th>\n",
       "      <th>Skill Team</th>\n",
       "      <th>Create Date</th>\n",
       "      <th>Picked Date</th>\n",
       "      <th>Completed Date</th>\n",
       "      <th>Customer Rating</th>\n",
       "      <th>Outcome</th>\n",
       "      <th>Reached via</th>\n",
       "    </tr>\n",
       "  </thead>\n",
       "  <tbody>\n",
       "    <tr>\n",
       "      <th>0</th>\n",
       "      <td>T01</td>\n",
       "      <td>High</td>\n",
       "      <td>California</td>\n",
       "      <td>Data Privacy</td>\n",
       "      <td>IT</td>\n",
       "      <td>2021-01-03 12:46:36</td>\n",
       "      <td>2021-01-03 12:48:31</td>\n",
       "      <td>2021-06-03 16:35:26</td>\n",
       "      <td>Excellent (5)</td>\n",
       "      <td>Advised for a risk assessment</td>\n",
       "      <td>Personal Call</td>\n",
       "    </tr>\n",
       "    <tr>\n",
       "      <th>1</th>\n",
       "      <td>T02</td>\n",
       "      <td>Low</td>\n",
       "      <td>Minnesota</td>\n",
       "      <td>Cyber Consultation</td>\n",
       "      <td>IT</td>\n",
       "      <td>2021-01-04 09:52:44</td>\n",
       "      <td>2021-01-04 10:12:46</td>\n",
       "      <td>2021-01-17 09:44:31</td>\n",
       "      <td>Excellent (5)</td>\n",
       "      <td>Recommended Threat Assessment</td>\n",
       "      <td>Ticket Portal</td>\n",
       "    </tr>\n",
       "    <tr>\n",
       "      <th>2</th>\n",
       "      <td>T03</td>\n",
       "      <td>High</td>\n",
       "      <td>Maryland</td>\n",
       "      <td>Cyber Security Breach</td>\n",
       "      <td>HR</td>\n",
       "      <td>2021-01-04 10:11:07</td>\n",
       "      <td>2021-01-04 10:11:31</td>\n",
       "      <td>2021-01-04 11:43:40</td>\n",
       "      <td>Excellent (5)</td>\n",
       "      <td>Recommended Threat Assessment</td>\n",
       "      <td>Personal Call</td>\n",
       "    </tr>\n",
       "    <tr>\n",
       "      <th>3</th>\n",
       "      <td>T04</td>\n",
       "      <td>Low</td>\n",
       "      <td>New York</td>\n",
       "      <td>Security Gap</td>\n",
       "      <td>IT</td>\n",
       "      <td>2021-01-04 10:55:13</td>\n",
       "      <td>2021-01-04 10:55:31</td>\n",
       "      <td>2021-01-18 11:06:54</td>\n",
       "      <td>Excellent (5)</td>\n",
       "      <td>Advised for a risk assessment</td>\n",
       "      <td>Ticket Portal</td>\n",
       "    </tr>\n",
       "    <tr>\n",
       "      <th>4</th>\n",
       "      <td>T05</td>\n",
       "      <td>High</td>\n",
       "      <td>California</td>\n",
       "      <td>Cyber Security Breach</td>\n",
       "      <td>Legal</td>\n",
       "      <td>2021-01-04 21:58:33</td>\n",
       "      <td>2021-01-04 22:13:03</td>\n",
       "      <td>2021-01-11 12:20:42</td>\n",
       "      <td>Excellent (5)</td>\n",
       "      <td>Recommended Threat Assessment</td>\n",
       "      <td>Ticket Portal</td>\n",
       "    </tr>\n",
       "  </tbody>\n",
       "</table>\n",
       "</div>"
      ],
      "text/plain": [
       "  Ticket No Priority       State               Category Skill Team  \\\n",
       "0       T01     High  California           Data Privacy         IT   \n",
       "1       T02      Low   Minnesota     Cyber Consultation         IT   \n",
       "2       T03     High    Maryland  Cyber Security Breach         HR   \n",
       "3       T04      Low    New York           Security Gap         IT   \n",
       "4       T05     High  California  Cyber Security Breach      Legal   \n",
       "\n",
       "          Create Date         Picked Date       Completed Date  \\\n",
       "0 2021-01-03 12:46:36 2021-01-03 12:48:31  2021-06-03 16:35:26   \n",
       "1 2021-01-04 09:52:44 2021-01-04 10:12:46  2021-01-17 09:44:31   \n",
       "2 2021-01-04 10:11:07 2021-01-04 10:11:31  2021-01-04 11:43:40   \n",
       "3 2021-01-04 10:55:13 2021-01-04 10:55:31  2021-01-18 11:06:54   \n",
       "4 2021-01-04 21:58:33 2021-01-04 22:13:03  2021-01-11 12:20:42   \n",
       "\n",
       "  Customer Rating                        Outcome    Reached via  \n",
       "0   Excellent (5)  Advised for a risk assessment  Personal Call  \n",
       "1   Excellent (5)  Recommended Threat Assessment  Ticket Portal  \n",
       "2   Excellent (5)  Recommended Threat Assessment  Personal Call  \n",
       "3   Excellent (5)  Advised for a risk assessment  Ticket Portal  \n",
       "4   Excellent (5)  Recommended Threat Assessment  Ticket Portal  "
      ]
     },
     "execution_count": 3,
     "metadata": {},
     "output_type": "execute_result"
    }
   ],
   "source": [
    "# Remove unwanted columns\n",
    "data = data.drop(['Sub Category', 'Hosting', 'Assignee', 'Escalated'], axis=1)\n",
    "data.head()"
   ]
  },
  {
   "cell_type": "code",
   "execution_count": 4,
   "id": "802fac08",
   "metadata": {},
   "outputs": [
    {
     "data": {
      "text/plain": [
       "Ticket No          0\n",
       "Priority           0\n",
       "State              0\n",
       "Category           0\n",
       "Skill Team         0\n",
       "Create Date        0\n",
       "Picked Date        0\n",
       "Completed Date     0\n",
       "Customer Rating    0\n",
       "Outcome            0\n",
       "Reached via        0\n",
       "dtype: int64"
      ]
     },
     "execution_count": 4,
     "metadata": {},
     "output_type": "execute_result"
    }
   ],
   "source": [
    "# Look for missing values\n",
    "data.isna().sum()\n",
    "# no NA values in our dataset. No action needs to be taken"
   ]
  },
  {
   "cell_type": "markdown",
   "id": "f5940e14",
   "metadata": {},
   "source": [
    "### 'State' Variable Exploratory Analysis"
   ]
  },
  {
   "cell_type": "code",
   "execution_count": 5,
   "id": "0282b89f",
   "metadata": {},
   "outputs": [
    {
     "name": "stdout",
     "output_type": "stream",
     "text": [
      "STATES REPRESENTED\n",
      "['California' 'Minnesota' 'Maryland' 'New York' 'Texas' 'Utah'\n",
      " 'New Jersey' 'Iowa' 'Florida' 'Michigan' 'Georgia' 'Louisiana'\n",
      " 'Connecticut' 'Wisconsin' 'Oregon' 'Virginia' 'Pennsylvania'\n",
      " 'Rhode Island' 'Ohio' 'Arizona' 'Massachusetts' 'New Mexico' 'Nevada'\n",
      " 'Illinois' 'North Carolina' 'Missouri' 'Tennessee' 'Kansas' 'Colorado'\n",
      " 'Indiana' 'Delaware' 'District of Columbia' 'Mississippi' 'Alabama'\n",
      " 'Washington' 'Kentucky' 'South Carolina' 'Nebraska' 'Hawaii'\n",
      " 'New Hampshire' 'Idaho' 'West Virginia' 'Maine' 'Oklahoma' 'Montana']\n",
      "-----------------------------\n",
      "# OF STATES REPRESENTED: 45\n"
     ]
    }
   ],
   "source": [
    "# Check values in the ‘State’ column and modify it if there are too many similar values\n",
    "print('STATES REPRESENTED')\n",
    "print(data['State'].unique())\n",
    "print('-----------------------------')\n",
    "print('# OF STATES REPRESENTED:', len(data['State'].unique()))"
   ]
  },
  {
   "cell_type": "code",
   "execution_count": 6,
   "id": "4d49267f",
   "metadata": {},
   "outputs": [
    {
     "data": {
      "text/plain": [
       "(array([242.,  93.,  50.,  64.,  44.,  59.,  33.,  30.,   6.,   6.]),\n",
       " array([ 0. ,  4.4,  8.8, 13.2, 17.6, 22. , 26.4, 30.8, 35.2, 39.6, 44. ]),\n",
       " <BarContainer object of 10 artists>)"
      ]
     },
     "execution_count": 6,
     "metadata": {},
     "output_type": "execute_result"
    },
    {
     "data": {
      "image/png": "[encoded data removed]",
      "text/plain": [
       "<Figure size 432x288 with 1 Axes>"
      ]
     },
     "metadata": {
      "needs_background": "light"
     },
     "output_type": "display_data"
    }
   ],
   "source": [
    "# Visualize distribution\n",
    "plt.hist(data['State'])"
   ]
  },
  {
   "cell_type": "markdown",
   "id": "fb4e1f8e",
   "metadata": {},
   "source": [
    "It looks like one state represents a significant part of our data, while a few states have minimal significance. Let's explore this further."
   ]
  },
  {
   "cell_type": "code",
   "execution_count": 7,
   "id": "3f32b8f8",
   "metadata": {},
   "outputs": [
    {
     "data": {
      "text/plain": [
       "California              131\n",
       "New York                 56\n",
       "Florida                  47\n",
       "Texas                    38\n",
       "Virginia                 38\n",
       "Illinois                 25\n",
       "Utah                     21\n",
       "Georgia                  19\n",
       "New Jersey               19\n",
       "Colorado                 18\n",
       "Massachusetts            15\n",
       "Arizona                  15\n",
       "Pennsylvania             14\n",
       "North Carolina           14\n",
       "Ohio                     13\n",
       "Michigan                 12\n",
       "Washington               11\n",
       "Oregon                   10\n",
       "District of Columbia      9\n",
       "Maryland                  9\n",
       "Wisconsin                 8\n",
       "Minnesota                 8\n",
       "Missouri                  8\n",
       "Tennessee                 8\n",
       "Indiana                   7\n",
       "Connecticut               6\n",
       "Iowa                      6\n",
       "Alabama                   5\n",
       "Louisiana                 5\n",
       "Kansas                    5\n",
       "Nevada                    4\n",
       "Delaware                  3\n",
       "Mississippi               3\n",
       "South Carolina            3\n",
       "Rhode Island              2\n",
       "Kentucky                  2\n",
       "Oklahoma                  2\n",
       "New Mexico                1\n",
       "Nebraska                  1\n",
       "Hawaii                    1\n",
       "New Hampshire             1\n",
       "Idaho                     1\n",
       "West Virginia             1\n",
       "Maine                     1\n",
       "Montana                   1\n",
       "Name: State, dtype: int64"
      ]
     },
     "execution_count": 7,
     "metadata": {},
     "output_type": "execute_result"
    }
   ],
   "source": [
    "# Check occurences per state\n",
    "state_counts = data['State'].value_counts()\n",
    "state_counts"
   ]
  },
  {
   "cell_type": "markdown",
   "id": "a8468a25",
   "metadata": {},
   "source": [
    "Most states have less than 10 occurences. Let's keep the ones with more than that in a variable."
   ]
  },
  {
   "cell_type": "code",
   "execution_count": 8,
   "id": "5eb430b2",
   "metadata": {},
   "outputs": [
    {
     "data": {
      "text/plain": [
       "['California',\n",
       " 'New York',\n",
       " 'Florida',\n",
       " 'Texas',\n",
       " 'Virginia',\n",
       " 'Illinois',\n",
       " 'Utah',\n",
       " 'Georgia',\n",
       " 'New Jersey',\n",
       " 'Colorado',\n",
       " 'Massachusetts',\n",
       " 'Arizona',\n",
       " 'Pennsylvania',\n",
       " 'North Carolina',\n",
       " 'Ohio',\n",
       " 'Michigan',\n",
       " 'Washington']"
      ]
     },
     "execution_count": 8,
     "metadata": {},
     "output_type": "execute_result"
    }
   ],
   "source": [
    "relevant_states = []\n",
    "for state in state_counts.index:\n",
    "    if state_counts[state] > 10:\n",
    "        relevant_states.append(state)\n",
    "relevant_states # states with more than 10 total tickets"
   ]
  },
  {
   "cell_type": "markdown",
   "id": "521e35ac",
   "metadata": {},
   "source": [
    "Now, let's compare the amount of tickets which come from California with the tickets from non-relevant states."
   ]
  },
  {
   "cell_type": "code",
   "execution_count": 9,
   "id": "576721f0",
   "metadata": {},
   "outputs": [
    {
     "name": "stdout",
     "output_type": "stream",
     "text": [
      "Percentage of tickets which come from California: 20.89 %\n"
     ]
    }
   ],
   "source": [
    "# Percent of total tickets that come from California\n",
    "perc_cal = round(state_counts['California']/len(data['State']), 4) * 100\n",
    "print('Percentage of tickets which come from California:', perc_cal, '%')"
   ]
  },
  {
   "cell_type": "code",
   "execution_count": 10,
   "id": "7c5f58a8",
   "metadata": {},
   "outputs": [
    {
     "name": "stdout",
     "output_type": "stream",
     "text": [
      "# of non-relevant states: 28\n",
      "# of tickets from non-relevant states: 121\n",
      "Percentage of tickets which come from non-relevant states: 19.3 %\n"
     ]
    }
   ],
   "source": [
    "# Percent of total tickets which come from non relevant states\n",
    "total_nonrelevantstates = 0\n",
    "nonrelevantstate_count = 0\n",
    "for state in state_counts.index:\n",
    "    if state not in relevant_states:\n",
    "        total_nonrelevantstates += state_counts[state]\n",
    "        nonrelevantstate_count += 1\n",
    "print('# of non-relevant states:', nonrelevantstate_count)\n",
    "print('# of tickets from non-relevant states:', total_nonrelevantstates)\n",
    "\n",
    "perc_nonrelevantstates = round(total_nonrelevantstates/len(data['State']), 4) * 100\n",
    "print('Percentage of tickets which come from non-relevant states:', perc_nonrelevantstates, '%')"
   ]
  },
  {
   "cell_type": "markdown",
   "id": "bc42de77",
   "metadata": {},
   "source": [
    "We can observe that the number tickets coming from California (20.89%), are around the same as the number of tickets coming from states we labeled as non-relevant (19.3%)."
   ]
  },
  {
   "cell_type": "markdown",
   "id": "3c8e50a4",
   "metadata": {},
   "source": [
    "### 'Category' Variable Exploratory Analysis"
   ]
  },
  {
   "cell_type": "code",
   "execution_count": 11,
   "id": "8cb9c9c7",
   "metadata": {},
   "outputs": [
    {
     "name": "stdout",
     "output_type": "stream",
     "text": [
      "CATEGORIES REPRESENTED\n",
      "['Data Privacy' 'Cyber Consultation' 'Cyber Security Breach'\n",
      " 'Security Gap' 'Data Leak']\n",
      "-----------------------------\n",
      "# OF CATEGORIES REPRESENTED: 5\n"
     ]
    }
   ],
   "source": [
    "# Check values in the ‘State’ column and modify it if there are too many similar values\n",
    "print('CATEGORIES REPRESENTED')\n",
    "print(data['Category'].unique())\n",
    "print('-----------------------------')\n",
    "print('# OF CATEGORIES REPRESENTED:', len(data['Category'].unique()))"
   ]
  },
  {
   "cell_type": "code",
   "execution_count": 12,
   "id": "f37af441",
   "metadata": {},
   "outputs": [
    {
     "name": "stderr",
     "output_type": "stream",
     "text": [
      "C:\\Users\\Guilherme\\anaconda3\\lib\\site-packages\\seaborn\\_decorators.py:36: FutureWarning: Pass the following variable as a keyword arg: x. From version 0.12, the only valid positional argument will be `data`, and passing other arguments without an explicit keyword will result in an error or misinterpretation.\n",
      "  warnings.warn(\n"
     ]
    },
    {
     "data": {
      "text/plain": [
       "<AxesSubplot:xlabel='Category', ylabel='count'>"
      ]
     },
     "execution_count": 12,
     "metadata": {},
     "output_type": "execute_result"
    },
    {
     "data": {
      "image/png": "[encoded data removed]",
      "text/plain": [
       "<Figure size 864x360 with 1 Axes>"
      ]
     },
     "metadata": {
      "needs_background": "light"
     },
     "output_type": "display_data"
    }
   ],
   "source": [
    "# Visualize distribution\n",
    "plt.rcParams[\"figure.figsize\"] = (12, 5)\n",
    "sns.countplot(data['Category'], palette = 'rocket', order = data['Category'].value_counts().index)"
   ]
  },
  {
   "cell_type": "markdown",
   "id": "4c25d8e3",
   "metadata": {},
   "source": [
    "As can be seen above, data privacy is the most frequent category in our dataset, while security gap is the least frequent."
   ]
  },
  {
   "cell_type": "markdown",
   "id": "5043acd6",
   "metadata": {},
   "source": [
    "### 'Customer Rating' Variable Exploratory Analysis"
   ]
  },
  {
   "cell_type": "code",
   "execution_count": 13,
   "id": "94698a18",
   "metadata": {},
   "outputs": [],
   "source": [
    "# Transform ‘Customer Rating’ variable into ordinal numerical type (2 - ‘Unsatisfactory (2)’; 3 - ‘Satisfactory (3)’; 4 – ‘Good (4)’; 5 – ‘Excellent (5)’\n",
    "def transform_crat(val):\n",
    "    if val == 'Unsatisfactory (2)': \n",
    "        return 2\n",
    "    elif val == 'Satisfactory (3)': \n",
    "        return 3\n",
    "    elif val == 'Good (4)': \n",
    "        return 4\n",
    "    elif val == 'Excellent (5)': \n",
    "        return 5\n",
    "data['Customer Rating (#)'] = data.apply(lambda row: transform_crat(row['Customer Rating']), axis=1)"
   ]
  },
  {
   "cell_type": "code",
   "execution_count": 14,
   "id": "6102dc7b",
   "metadata": {},
   "outputs": [
    {
     "name": "stdout",
     "output_type": "stream",
     "text": [
      "  Ticket No Priority       State               Category Skill Team  \\\n",
      "0       T01     High  California           Data Privacy         IT   \n",
      "1       T02      Low   Minnesota     Cyber Consultation         IT   \n",
      "2       T03     High    Maryland  Cyber Security Breach         HR   \n",
      "3       T04      Low    New York           Security Gap         IT   \n",
      "4       T05     High  California  Cyber Security Breach      Legal   \n",
      "\n",
      "          Create Date         Picked Date       Completed Date  \\\n",
      "0 2021-01-03 12:46:36 2021-01-03 12:48:31  2021-06-03 16:35:26   \n",
      "1 2021-01-04 09:52:44 2021-01-04 10:12:46  2021-01-17 09:44:31   \n",
      "2 2021-01-04 10:11:07 2021-01-04 10:11:31  2021-01-04 11:43:40   \n",
      "3 2021-01-04 10:55:13 2021-01-04 10:55:31  2021-01-18 11:06:54   \n",
      "4 2021-01-04 21:58:33 2021-01-04 22:13:03  2021-01-11 12:20:42   \n",
      "\n",
      "  Customer Rating                        Outcome    Reached via  \\\n",
      "0   Excellent (5)  Advised for a risk assessment  Personal Call   \n",
      "1   Excellent (5)  Recommended Threat Assessment  Ticket Portal   \n",
      "2   Excellent (5)  Recommended Threat Assessment  Personal Call   \n",
      "3   Excellent (5)  Advised for a risk assessment  Ticket Portal   \n",
      "4   Excellent (5)  Recommended Threat Assessment  Ticket Portal   \n",
      "\n",
      "   Customer Rating (#)  \n",
      "0                    5  \n",
      "1                    5  \n",
      "2                    5  \n",
      "3                    5  \n",
      "4                    5  \n",
      "    Ticket No Priority       State               Category Skill Team  \\\n",
      "622       T95     High    Colorado           Data Privacy         HR   \n",
      "623       T96     High  California  Cyber Security Breach         IT   \n",
      "624       T97     High    Colorado           Data Privacy         HR   \n",
      "625       T98     High    Virginia     Cyber Consultation         IT   \n",
      "626       T99     High        Utah           Data Privacy    Finance   \n",
      "\n",
      "            Create Date         Picked Date       Completed Date  \\\n",
      "622 2021-03-12 11:55:31 2021-03-12 11:58:38  2021-03-17 09:47:17   \n",
      "623 2021-03-12 11:55:31 2021-03-12 11:58:38  2021-03-17 09:47:17   \n",
      "624 2021-03-12 11:55:31 2021-03-12 11:58:38  2021-03-17 09:47:17   \n",
      "625 2021-03-12 17:45:32 2021-03-12 17:46:30  2021-03-13 11:45:18   \n",
      "626 2021-03-13 14:20:06 2021-03-13 14:28:47  2021-03-17 10:43:52   \n",
      "\n",
      "    Customer Rating                        Outcome    Reached via  \\\n",
      "622   Excellent (5)                       Resolved  Ticket Portal   \n",
      "623   Excellent (5)                       Resolved  Personal Call   \n",
      "624   Excellent (5)                       Resolved           Mail   \n",
      "625        Good (4)  Advised for a risk assessment  Ticket Portal   \n",
      "626   Excellent (5)                       Resolved  Ticket Portal   \n",
      "\n",
      "     Customer Rating (#)  \n",
      "622                    5  \n",
      "623                    5  \n",
      "624                    5  \n",
      "625                    4  \n",
      "626                    5  \n"
     ]
    }
   ],
   "source": [
    "# Check if all values were converted correctly\n",
    "print(data.head())\n",
    "print(data.tail())\n",
    "# looks good"
   ]
  },
  {
   "cell_type": "code",
   "execution_count": 15,
   "id": "c35ad20a",
   "metadata": {},
   "outputs": [
    {
     "data": {
      "text/html": [
       "<div>\n",
       "<style scoped>\n",
       "    .dataframe tbody tr th:only-of-type {\n",
       "        vertical-align: middle;\n",
       "    }\n",
       "\n",
       "    .dataframe tbody tr th {\n",
       "        vertical-align: top;\n",
       "    }\n",
       "\n",
       "    .dataframe thead th {\n",
       "        text-align: right;\n",
       "    }\n",
       "</style>\n",
       "<table border=\"1\" class=\"dataframe\">\n",
       "  <thead>\n",
       "    <tr style=\"text-align: right;\">\n",
       "      <th></th>\n",
       "      <th>Ticket No</th>\n",
       "      <th>Priority</th>\n",
       "      <th>State</th>\n",
       "      <th>Category</th>\n",
       "      <th>Skill Team</th>\n",
       "      <th>Create Date</th>\n",
       "      <th>Picked Date</th>\n",
       "      <th>Completed Date</th>\n",
       "      <th>Outcome</th>\n",
       "      <th>Reached via</th>\n",
       "      <th>Customer Rating (#)</th>\n",
       "    </tr>\n",
       "  </thead>\n",
       "  <tbody>\n",
       "    <tr>\n",
       "      <th>0</th>\n",
       "      <td>T01</td>\n",
       "      <td>High</td>\n",
       "      <td>California</td>\n",
       "      <td>Data Privacy</td>\n",
       "      <td>IT</td>\n",
       "      <td>2021-01-03 12:46:36</td>\n",
       "      <td>2021-01-03 12:48:31</td>\n",
       "      <td>2021-06-03 16:35:26</td>\n",
       "      <td>Advised for a risk assessment</td>\n",
       "      <td>Personal Call</td>\n",
       "      <td>5</td>\n",
       "    </tr>\n",
       "    <tr>\n",
       "      <th>1</th>\n",
       "      <td>T02</td>\n",
       "      <td>Low</td>\n",
       "      <td>Minnesota</td>\n",
       "      <td>Cyber Consultation</td>\n",
       "      <td>IT</td>\n",
       "      <td>2021-01-04 09:52:44</td>\n",
       "      <td>2021-01-04 10:12:46</td>\n",
       "      <td>2021-01-17 09:44:31</td>\n",
       "      <td>Recommended Threat Assessment</td>\n",
       "      <td>Ticket Portal</td>\n",
       "      <td>5</td>\n",
       "    </tr>\n",
       "    <tr>\n",
       "      <th>2</th>\n",
       "      <td>T03</td>\n",
       "      <td>High</td>\n",
       "      <td>Maryland</td>\n",
       "      <td>Cyber Security Breach</td>\n",
       "      <td>HR</td>\n",
       "      <td>2021-01-04 10:11:07</td>\n",
       "      <td>2021-01-04 10:11:31</td>\n",
       "      <td>2021-01-04 11:43:40</td>\n",
       "      <td>Recommended Threat Assessment</td>\n",
       "      <td>Personal Call</td>\n",
       "      <td>5</td>\n",
       "    </tr>\n",
       "    <tr>\n",
       "      <th>3</th>\n",
       "      <td>T04</td>\n",
       "      <td>Low</td>\n",
       "      <td>New York</td>\n",
       "      <td>Security Gap</td>\n",
       "      <td>IT</td>\n",
       "      <td>2021-01-04 10:55:13</td>\n",
       "      <td>2021-01-04 10:55:31</td>\n",
       "      <td>2021-01-18 11:06:54</td>\n",
       "      <td>Advised for a risk assessment</td>\n",
       "      <td>Ticket Portal</td>\n",
       "      <td>5</td>\n",
       "    </tr>\n",
       "    <tr>\n",
       "      <th>4</th>\n",
       "      <td>T05</td>\n",
       "      <td>High</td>\n",
       "      <td>California</td>\n",
       "      <td>Cyber Security Breach</td>\n",
       "      <td>Legal</td>\n",
       "      <td>2021-01-04 21:58:33</td>\n",
       "      <td>2021-01-04 22:13:03</td>\n",
       "      <td>2021-01-11 12:20:42</td>\n",
       "      <td>Recommended Threat Assessment</td>\n",
       "      <td>Ticket Portal</td>\n",
       "      <td>5</td>\n",
       "    </tr>\n",
       "  </tbody>\n",
       "</table>\n",
       "</div>"
      ],
      "text/plain": [
       "  Ticket No Priority       State               Category Skill Team  \\\n",
       "0       T01     High  California           Data Privacy         IT   \n",
       "1       T02      Low   Minnesota     Cyber Consultation         IT   \n",
       "2       T03     High    Maryland  Cyber Security Breach         HR   \n",
       "3       T04      Low    New York           Security Gap         IT   \n",
       "4       T05     High  California  Cyber Security Breach      Legal   \n",
       "\n",
       "          Create Date         Picked Date       Completed Date  \\\n",
       "0 2021-01-03 12:46:36 2021-01-03 12:48:31  2021-06-03 16:35:26   \n",
       "1 2021-01-04 09:52:44 2021-01-04 10:12:46  2021-01-17 09:44:31   \n",
       "2 2021-01-04 10:11:07 2021-01-04 10:11:31  2021-01-04 11:43:40   \n",
       "3 2021-01-04 10:55:13 2021-01-04 10:55:31  2021-01-18 11:06:54   \n",
       "4 2021-01-04 21:58:33 2021-01-04 22:13:03  2021-01-11 12:20:42   \n",
       "\n",
       "                         Outcome    Reached via  Customer Rating (#)  \n",
       "0  Advised for a risk assessment  Personal Call                    5  \n",
       "1  Recommended Threat Assessment  Ticket Portal                    5  \n",
       "2  Recommended Threat Assessment  Personal Call                    5  \n",
       "3  Advised for a risk assessment  Ticket Portal                    5  \n",
       "4  Recommended Threat Assessment  Ticket Portal                    5  "
      ]
     },
     "execution_count": 15,
     "metadata": {},
     "output_type": "execute_result"
    }
   ],
   "source": [
    "# Drop 'Customer Rating' column\n",
    "data = data.drop(['Customer Rating'], axis=1)\n",
    "data.head()"
   ]
  },
  {
   "cell_type": "code",
   "execution_count": 16,
   "id": "89f43b66",
   "metadata": {},
   "outputs": [
    {
     "data": {
      "text/plain": [
       "count    627.000000\n",
       "mean       4.051037\n",
       "std        1.130726\n",
       "min        2.000000\n",
       "25%        3.000000\n",
       "50%        5.000000\n",
       "75%        5.000000\n",
       "max        5.000000\n",
       "Name: Customer Rating (#), dtype: float64"
      ]
     },
     "execution_count": 16,
     "metadata": {},
     "output_type": "execute_result"
    }
   ],
   "source": [
    "# Descriptive stats\n",
    "data['Customer Rating (#)'].describe()"
   ]
  },
  {
   "cell_type": "code",
   "execution_count": 17,
   "id": "67bdd8c9",
   "metadata": {},
   "outputs": [
    {
     "name": "stderr",
     "output_type": "stream",
     "text": [
      "C:\\Users\\Guilherme\\anaconda3\\lib\\site-packages\\seaborn\\_decorators.py:36: FutureWarning: Pass the following variable as a keyword arg: x. From version 0.12, the only valid positional argument will be `data`, and passing other arguments without an explicit keyword will result in an error or misinterpretation.\n",
      "  warnings.warn(\n"
     ]
    },
    {
     "data": {
      "text/plain": [
       "<AxesSubplot:xlabel='Customer Rating (#)', ylabel='count'>"
      ]
     },
     "execution_count": 17,
     "metadata": {},
     "output_type": "execute_result"
    },
    {
     "data": {
      "image/png": "[encoded data removed]",
      "text/plain": [
       "<Figure size 864x360 with 1 Axes>"
      ]
     },
     "metadata": {
      "needs_background": "light"
     },
     "output_type": "display_data"
    }
   ],
   "source": [
    "# Visualize distribution\n",
    "plt.rcParams[\"figure.figsize\"] = (12, 5)\n",
    "sns.countplot(data['Customer Rating (#)'], palette = 'rocket', order = [5,4,3,2])"
   ]
  },
  {
   "cell_type": "markdown",
   "id": "4557e566",
   "metadata": {},
   "source": [
    "### 'Create Date' and 'Completed Date' Variables Exploratory Analysis"
   ]
  },
  {
   "cell_type": "markdown",
   "id": "17cceee5",
   "metadata": {},
   "source": [
    "An error was noticed after initally trying to plot a histogram of 'Completed Date' variable. Let's investigate and fix it."
   ]
  },
  {
   "cell_type": "code",
   "execution_count": 18,
   "id": "569990dc",
   "metadata": {},
   "outputs": [
    {
     "name": "stdout",
     "output_type": "stream",
     "text": [
      "<class 'pandas.core.frame.DataFrame'>\n",
      "RangeIndex: 627 entries, 0 to 626\n",
      "Data columns (total 11 columns):\n",
      " #   Column               Non-Null Count  Dtype         \n",
      "---  ------               --------------  -----         \n",
      " 0   Ticket No            627 non-null    object        \n",
      " 1   Priority             627 non-null    object        \n",
      " 2   State                627 non-null    object        \n",
      " 3   Category             627 non-null    object        \n",
      " 4   Skill Team           627 non-null    object        \n",
      " 5   Create Date          627 non-null    datetime64[ns]\n",
      " 6   Picked Date          627 non-null    datetime64[ns]\n",
      " 7   Completed Date       627 non-null    object        \n",
      " 8   Outcome              627 non-null    object        \n",
      " 9   Reached via          627 non-null    object        \n",
      " 10  Customer Rating (#)  627 non-null    int64         \n",
      "dtypes: datetime64[ns](2), int64(1), object(8)\n",
      "memory usage: 54.0+ KB\n"
     ]
    }
   ],
   "source": [
    "# Check types\n",
    "data.info()\n",
    "# 'Completed Date' was not initially converted to a datetime Dtype and is an object type\n",
    "# after troubleshooting, it was noticed that a value in the 'Completed Date' column is of a different format"
   ]
  },
  {
   "cell_type": "code",
   "execution_count": 19,
   "id": "703cd2a0",
   "metadata": {},
   "outputs": [
    {
     "name": "stdout",
     "output_type": "stream",
     "text": [
      "31-02-2021  11:30:57\n",
      "01-03-2021  11:30:57\n"
     ]
    },
    {
     "name": "stderr",
     "output_type": "stream",
     "text": [
      "C:\\Users\\Guilherme\\AppData\\Local\\Temp\\ipykernel_5108\\10145395.py:16: SettingWithCopyWarning: \n",
      "A value is trying to be set on a copy of a slice from a DataFrame\n",
      "\n",
      "See the caveats in the documentation: https://pandas.pydata.org/pandas-docs/stable/user_guide/indexing.html#returning-a-view-versus-a-copy\n",
      "  data.loc[598]['Completed Date'] = correct_date\n"
     ]
    }
   ],
   "source": [
    "# Convert into correct format\n",
    "# incorrect data point has 'Completed Date' of '31-02-2021  11:30:57'\n",
    "# February does not have a 31st, therefore, let's manually change this to be March 1st\n",
    "\n",
    "# original value\n",
    "print(data.iloc[598]['Completed Date'])\n",
    "# store index of incorrect date\n",
    "inc_ind = data[data['Completed Date'] == '31-02-2021  11:30:57']['Completed Date'].index[0]\n",
    "\n",
    "# manually change date and store its value\n",
    "data.replace(to_replace='31-02-2021  11:30:57', value = '01-03-2021  11:30:57', inplace=True)\n",
    "incorrect_date = data.iloc[598]['Completed Date']\n",
    "\n",
    "# change date format\n",
    "correct_date = datetime.strptime(incorrect_date, '%d-%m-%Y %H:%M:%S')\n",
    "data.loc[598]['Completed Date'] = correct_date\n",
    "\n",
    "# New value\n",
    "print(data.loc[598]['Completed Date'])"
   ]
  },
  {
   "cell_type": "code",
   "execution_count": 20,
   "id": "3e4ab182",
   "metadata": {},
   "outputs": [
    {
     "name": "stdout",
     "output_type": "stream",
     "text": [
      "<class 'pandas.core.frame.DataFrame'>\n",
      "RangeIndex: 627 entries, 0 to 626\n",
      "Data columns (total 11 columns):\n",
      " #   Column               Non-Null Count  Dtype         \n",
      "---  ------               --------------  -----         \n",
      " 0   Ticket No            627 non-null    object        \n",
      " 1   Priority             627 non-null    object        \n",
      " 2   State                627 non-null    object        \n",
      " 3   Category             627 non-null    object        \n",
      " 4   Skill Team           627 non-null    object        \n",
      " 5   Create Date          627 non-null    datetime64[ns]\n",
      " 6   Picked Date          627 non-null    datetime64[ns]\n",
      " 7   Completed Date       627 non-null    datetime64[ns]\n",
      " 8   Outcome              627 non-null    object        \n",
      " 9   Reached via          627 non-null    object        \n",
      " 10  Customer Rating (#)  627 non-null    int64         \n",
      "dtypes: datetime64[ns](3), int64(1), object(7)\n",
      "memory usage: 54.0+ KB\n"
     ]
    }
   ],
   "source": [
    "# Transform column to be of datetime type\n",
    "data['Completed Date'] = pd.to_datetime(data['Completed Date'])\n",
    "\n",
    "data.info()\n",
    "# Successfully converted column to be of datetime type"
   ]
  },
  {
   "cell_type": "code",
   "execution_count": 21,
   "id": "158f88d2",
   "metadata": {},
   "outputs": [
    {
     "data": {
      "text/plain": [
       "Text(0.5, 1.0, 'Completed Date Distribution')"
      ]
     },
     "execution_count": 21,
     "metadata": {},
     "output_type": "execute_result"
    },
    {
     "data": {
      "image/png": "[encoded data removed]",
      "text/plain": [
       "<Figure size 1296x360 with 2 Axes>"
      ]
     },
     "metadata": {
      "needs_background": "light"
     },
     "output_type": "display_data"
    }
   ],
   "source": [
    "# Visualize ‘Create Date’  and 'Completed Date' variables distribution\n",
    "fig = plt.figure(figsize=(18,5))\n",
    "# 'Create Date' plot\n",
    "ax1 = fig.add_subplot(121)\n",
    "ax1.hist(data['Create Date'], color='purple')\n",
    "ax1.set_title('Create Date Distribution')\n",
    "\n",
    "# 'Completed Date' plot\n",
    "ax2 = fig.add_subplot(122)\n",
    "ax2.hist(data['Completed Date'], color = 'yellow')\n",
    "ax2.set_title('Completed Date Distribution')"
   ]
  },
  {
   "cell_type": "code",
   "execution_count": 22,
   "id": "e5bdb6b1",
   "metadata": {
    "scrolled": true
   },
   "outputs": [
    {
     "data": {
      "text/plain": [
       "Text(0.5, 1.0, 'Stacked histograms of Create Date and Completed Date')"
      ]
     },
     "execution_count": 22,
     "metadata": {},
     "output_type": "execute_result"
    },
    {
     "data": {
      "image/png": "[encoded data removed]",
      "text/plain": [
       "<Figure size 1296x360 with 1 Axes>"
      ]
     },
     "metadata": {
      "needs_background": "light"
     },
     "output_type": "display_data"
    }
   ],
   "source": [
    "# Set histograms on top of each other\n",
    "fig = plt.figure(figsize=(18,5))\n",
    "# 'Create Date' and 'Completed Date' stacked plots\n",
    "ax1 = fig.add_subplot()\n",
    "ax1.hist(data['Create Date'], color='purple')\n",
    "ax1.hist(data['Completed Date'], alpha = 0.5, color = 'yellow')\n",
    "ax1.set_title('Stacked histograms of Create Date and Completed Date')"
   ]
  },
  {
   "cell_type": "code",
   "execution_count": 23,
   "id": "10573518",
   "metadata": {},
   "outputs": [
    {
     "data": {
      "text/html": [
       "<div>\n",
       "<style scoped>\n",
       "    .dataframe tbody tr th:only-of-type {\n",
       "        vertical-align: middle;\n",
       "    }\n",
       "\n",
       "    .dataframe tbody tr th {\n",
       "        vertical-align: top;\n",
       "    }\n",
       "\n",
       "    .dataframe thead th {\n",
       "        text-align: right;\n",
       "    }\n",
       "</style>\n",
       "<table border=\"1\" class=\"dataframe\">\n",
       "  <thead>\n",
       "    <tr style=\"text-align: right;\">\n",
       "      <th></th>\n",
       "      <th>Ticket No</th>\n",
       "      <th>Priority</th>\n",
       "      <th>State</th>\n",
       "      <th>Category</th>\n",
       "      <th>Skill Team</th>\n",
       "      <th>Create Date</th>\n",
       "      <th>Picked Date</th>\n",
       "      <th>Completed Date</th>\n",
       "      <th>Outcome</th>\n",
       "      <th>Reached via</th>\n",
       "      <th>Customer Rating (#)</th>\n",
       "      <th>Total Ticket Time</th>\n",
       "    </tr>\n",
       "  </thead>\n",
       "  <tbody>\n",
       "    <tr>\n",
       "      <th>0</th>\n",
       "      <td>T01</td>\n",
       "      <td>High</td>\n",
       "      <td>California</td>\n",
       "      <td>Data Privacy</td>\n",
       "      <td>IT</td>\n",
       "      <td>2021-01-03 12:46:36</td>\n",
       "      <td>2021-01-03 12:48:31</td>\n",
       "      <td>2021-06-03 16:35:26</td>\n",
       "      <td>Advised for a risk assessment</td>\n",
       "      <td>Personal Call</td>\n",
       "      <td>5</td>\n",
       "      <td>151.16</td>\n",
       "    </tr>\n",
       "    <tr>\n",
       "      <th>1</th>\n",
       "      <td>T02</td>\n",
       "      <td>Low</td>\n",
       "      <td>Minnesota</td>\n",
       "      <td>Cyber Consultation</td>\n",
       "      <td>IT</td>\n",
       "      <td>2021-01-04 09:52:44</td>\n",
       "      <td>2021-01-04 10:12:46</td>\n",
       "      <td>2021-01-17 09:44:31</td>\n",
       "      <td>Recommended Threat Assessment</td>\n",
       "      <td>Ticket Portal</td>\n",
       "      <td>5</td>\n",
       "      <td>12.99</td>\n",
       "    </tr>\n",
       "    <tr>\n",
       "      <th>2</th>\n",
       "      <td>T03</td>\n",
       "      <td>High</td>\n",
       "      <td>Maryland</td>\n",
       "      <td>Cyber Security Breach</td>\n",
       "      <td>HR</td>\n",
       "      <td>2021-01-04 10:11:07</td>\n",
       "      <td>2021-01-04 10:11:31</td>\n",
       "      <td>2021-01-04 11:43:40</td>\n",
       "      <td>Recommended Threat Assessment</td>\n",
       "      <td>Personal Call</td>\n",
       "      <td>5</td>\n",
       "      <td>0.06</td>\n",
       "    </tr>\n",
       "    <tr>\n",
       "      <th>3</th>\n",
       "      <td>T04</td>\n",
       "      <td>Low</td>\n",
       "      <td>New York</td>\n",
       "      <td>Security Gap</td>\n",
       "      <td>IT</td>\n",
       "      <td>2021-01-04 10:55:13</td>\n",
       "      <td>2021-01-04 10:55:31</td>\n",
       "      <td>2021-01-18 11:06:54</td>\n",
       "      <td>Advised for a risk assessment</td>\n",
       "      <td>Ticket Portal</td>\n",
       "      <td>5</td>\n",
       "      <td>14.01</td>\n",
       "    </tr>\n",
       "    <tr>\n",
       "      <th>4</th>\n",
       "      <td>T05</td>\n",
       "      <td>High</td>\n",
       "      <td>California</td>\n",
       "      <td>Cyber Security Breach</td>\n",
       "      <td>Legal</td>\n",
       "      <td>2021-01-04 21:58:33</td>\n",
       "      <td>2021-01-04 22:13:03</td>\n",
       "      <td>2021-01-11 12:20:42</td>\n",
       "      <td>Recommended Threat Assessment</td>\n",
       "      <td>Ticket Portal</td>\n",
       "      <td>5</td>\n",
       "      <td>6.60</td>\n",
       "    </tr>\n",
       "  </tbody>\n",
       "</table>\n",
       "</div>"
      ],
      "text/plain": [
       "  Ticket No Priority       State               Category Skill Team  \\\n",
       "0       T01     High  California           Data Privacy         IT   \n",
       "1       T02      Low   Minnesota     Cyber Consultation         IT   \n",
       "2       T03     High    Maryland  Cyber Security Breach         HR   \n",
       "3       T04      Low    New York           Security Gap         IT   \n",
       "4       T05     High  California  Cyber Security Breach      Legal   \n",
       "\n",
       "          Create Date         Picked Date      Completed Date  \\\n",
       "0 2021-01-03 12:46:36 2021-01-03 12:48:31 2021-06-03 16:35:26   \n",
       "1 2021-01-04 09:52:44 2021-01-04 10:12:46 2021-01-17 09:44:31   \n",
       "2 2021-01-04 10:11:07 2021-01-04 10:11:31 2021-01-04 11:43:40   \n",
       "3 2021-01-04 10:55:13 2021-01-04 10:55:31 2021-01-18 11:06:54   \n",
       "4 2021-01-04 21:58:33 2021-01-04 22:13:03 2021-01-11 12:20:42   \n",
       "\n",
       "                         Outcome    Reached via  Customer Rating (#)  \\\n",
       "0  Advised for a risk assessment  Personal Call                    5   \n",
       "1  Recommended Threat Assessment  Ticket Portal                    5   \n",
       "2  Recommended Threat Assessment  Personal Call                    5   \n",
       "3  Advised for a risk assessment  Ticket Portal                    5   \n",
       "4  Recommended Threat Assessment  Ticket Portal                    5   \n",
       "\n",
       "   Total Ticket Time  \n",
       "0             151.16  \n",
       "1              12.99  \n",
       "2               0.06  \n",
       "3              14.01  \n",
       "4               6.60  "
      ]
     },
     "execution_count": 23,
     "metadata": {},
     "output_type": "execute_result"
    }
   ],
   "source": [
    "# Create new column to represent the difference between ticket request creation date and completion date in days\n",
    "data['Total Ticket Time'] = round((data['Completed Date'] - data['Create Date']) / np.timedelta64(1, 'D'),2)\n",
    "\n",
    "data.head() # updated date with new 'Total Ticket Time' column"
   ]
  },
  {
   "cell_type": "code",
   "execution_count": 24,
   "id": "15e010f6",
   "metadata": {},
   "outputs": [
    {
     "name": "stdout",
     "output_type": "stream",
     "text": [
      "Mean ticket time: 16.36 days\n"
     ]
    }
   ],
   "source": [
    "# Calculate mean ticket time\n",
    "print('Mean ticket time:', round(data['Total Ticket Time'].mean(),2), 'days')"
   ]
  },
  {
   "cell_type": "code",
   "execution_count": 25,
   "id": "083bac6f",
   "metadata": {},
   "outputs": [
    {
     "name": "stdout",
     "output_type": "stream",
     "text": [
      "MEAN TICKET TIMES BY CATEGORY\n",
      "Data Privacy : 13.02 days\n",
      "Cyber Consultation : 14.93 days\n",
      "Cyber Security Breach : 15.34 days\n",
      "Security Gap : 18.23 days\n",
      "Data Leak : 24.24 days\n"
     ]
    }
   ],
   "source": [
    "# Is there a difference in total ticket time depending on the category of the request?\n",
    "print('MEAN TICKET TIMES BY CATEGORY')\n",
    "for cat in data['Category'].unique():\n",
    "    print(cat, ':', round(data[data['Category'] == cat]['Total Ticket Time'].mean(), 2), 'days')"
   ]
  },
  {
   "cell_type": "code",
   "execution_count": 26,
   "id": "f92c2773",
   "metadata": {},
   "outputs": [
    {
     "name": "stdout",
     "output_type": "stream",
     "text": [
      "MEAN TICKET TIMES BY CUSTOMER RATING\n",
      "5 stars: 16.26 days\n",
      "3 stars: 17.25 days\n",
      "4 stars: 17.63 days\n",
      "2 stars: 14.32 days\n"
     ]
    }
   ],
   "source": [
    "# What about for customer ratings?\n",
    "print('MEAN TICKET TIMES BY CUSTOMER RATING')\n",
    "for rat in data['Customer Rating (#)'].unique():\n",
    "    print(rat,'stars:', round(data[data['Customer Rating (#)'] == rat]['Total Ticket Time'].mean(), 2), 'days')"
   ]
  },
  {
   "cell_type": "code",
   "execution_count": 27,
   "id": "e27bc776",
   "metadata": {},
   "outputs": [
    {
     "name": "stderr",
     "output_type": "stream",
     "text": [
      "C:\\Users\\Guilherme\\anaconda3\\lib\\site-packages\\seaborn\\_decorators.py:36: FutureWarning: Pass the following variables as keyword args: x, y. From version 0.12, the only valid positional argument will be `data`, and passing other arguments without an explicit keyword will result in an error or misinterpretation.\n",
      "  warnings.warn(\n"
     ]
    },
    {
     "data": {
      "text/plain": [
       "<AxesSubplot:xlabel='Customer Rating (#)', ylabel='Total Ticket Time'>"
      ]
     },
     "execution_count": 27,
     "metadata": {},
     "output_type": "execute_result"
    },
    {
     "data": {
      "image/png": "[encoded data removed]",
      "text/plain": [
       "<Figure size 864x360 with 1 Axes>"
      ]
     },
     "metadata": {
      "needs_background": "light"
     },
     "output_type": "display_data"
    }
   ],
   "source": [
    "# 'Customer Rating (#)' vs 'Total Ticket Time' bar plot\n",
    "sns.barplot(data['Customer Rating (#)'], data['Total Ticket Time'], palette='rocket', order=[5,4,3,2])"
   ]
  },
  {
   "cell_type": "markdown",
   "id": "61bec067",
   "metadata": {},
   "source": [
    "The total ticket time seems to be very similar regardless of the customer rating. This indicates that the total ticket time does not seem to be very significant to customer satisfaction.\n",
    "\n",
    "Now, let's analyze this by category."
   ]
  },
  {
   "cell_type": "code",
   "execution_count": 28,
   "id": "505dabcf",
   "metadata": {},
   "outputs": [
    {
     "name": "stderr",
     "output_type": "stream",
     "text": [
      "C:\\Users\\Guilherme\\anaconda3\\lib\\site-packages\\seaborn\\_decorators.py:36: FutureWarning: Pass the following variables as keyword args: x, y. From version 0.12, the only valid positional argument will be `data`, and passing other arguments without an explicit keyword will result in an error or misinterpretation.\n",
      "  warnings.warn(\n",
      "C:\\Users\\Guilherme\\anaconda3\\lib\\site-packages\\seaborn\\_decorators.py:36: FutureWarning: Pass the following variables as keyword args: x, y. From version 0.12, the only valid positional argument will be `data`, and passing other arguments without an explicit keyword will result in an error or misinterpretation.\n",
      "  warnings.warn(\n",
      "C:\\Users\\Guilherme\\anaconda3\\lib\\site-packages\\seaborn\\_decorators.py:36: FutureWarning: Pass the following variables as keyword args: x, y. From version 0.12, the only valid positional argument will be `data`, and passing other arguments without an explicit keyword will result in an error or misinterpretation.\n",
      "  warnings.warn(\n",
      "C:\\Users\\Guilherme\\anaconda3\\lib\\site-packages\\seaborn\\_decorators.py:36: FutureWarning: Pass the following variables as keyword args: x, y. From version 0.12, the only valid positional argument will be `data`, and passing other arguments without an explicit keyword will result in an error or misinterpretation.\n",
      "  warnings.warn(\n",
      "C:\\Users\\Guilherme\\anaconda3\\lib\\site-packages\\seaborn\\_decorators.py:36: FutureWarning: Pass the following variables as keyword args: x, y. From version 0.12, the only valid positional argument will be `data`, and passing other arguments without an explicit keyword will result in an error or misinterpretation.\n",
      "  warnings.warn(\n"
     ]
    },
    {
     "data": {
      "image/png": "[encoded data removed]",
      "text/plain": [
       "<Figure size 1080x288 with 1 Axes>"
      ]
     },
     "metadata": {
      "needs_background": "light"
     },
     "output_type": "display_data"
    },
    {
     "data": {
      "image/png": "[encoded data removed]",
      "text/plain": [
       "<Figure size 1080x288 with 1 Axes>"
      ]
     },
     "metadata": {
      "needs_background": "light"
     },
     "output_type": "display_data"
    },
    {
     "data": {
      "image/png": "[encoded data removed]",
      "text/plain": [
       "<Figure size 1080x288 with 1 Axes>"
      ]
     },
     "metadata": {
      "needs_background": "light"
     },
     "output_type": "display_data"
    },
    {
     "data": {
      "image/png": "[encoded data removed]",
      "text/plain": [
       "<Figure size 1080x288 with 1 Axes>"
      ]
     },
     "metadata": {
      "needs_background": "light"
     },
     "output_type": "display_data"
    },
    {
     "data": {
      "image/png": "[encoded data removed]",
      "text/plain": [
       "<Figure size 1080x288 with 1 Axes>"
      ]
     },
     "metadata": {
      "needs_background": "light"
     },
     "output_type": "display_data"
    }
   ],
   "source": [
    "# Visualize mean total ticket time by customer rating for each category\n",
    "for cat in data['Category'].unique():\n",
    "    # set plot figure\n",
    "    fig = plt.figure(figsize=(15,4))\n",
    "    ax1 = fig.add_subplot(121)\n",
    "    \n",
    "    # create dataframe containing only values of the category being evaluated and grouped by customer rating, take column means\n",
    "    gby_rat = data[data['Category'] == cat].groupby(['Customer Rating (#)']).mean()\n",
    "    gby_rat.reset_index(inplace=True)\n",
    "    \n",
    "    # plot mean ticket time per customer rating for the category being evaluated\n",
    "    ax1 = sns.barplot(gby_rat['Customer Rating (#)'], gby_rat['Total Ticket Time'], palette='rocket', order=[5,4,3,2])\n",
    "    ax1.set_title(cat)\n",
    "    plt.ylabel('Average Total Ticket Time')"
   ]
  },
  {
   "cell_type": "markdown",
   "id": "3b5f464e",
   "metadata": {},
   "source": [
    "This relationships seems to vary depending on the category of the ticket request.\n",
    "\n",
    "For cyber consultation, for example, a higher average ticket time seems to have a higher customer satisfaction (since 5 stars have by far the highest average ticket time). On the other hand, clients who report a data leak issue seem to have a low tolerance for total ticket time. For this category, the best rating (5 stars) have, by far, the lowest average total ticket time.\n",
    "\n",
    "The reason why these relationships vary is uncertain and may require domain-specific knowledge (or be random). But we cannot establish a causal relationship based on this analysis."
   ]
  },
  {
   "cell_type": "markdown",
   "id": "d78e814b",
   "metadata": {},
   "source": [
    "## Category Evaluation"
   ]
  },
  {
   "cell_type": "markdown",
   "id": "e6fd4f49",
   "metadata": {},
   "source": [
    "Category Evaluation Metric\n",
    "Measured with 5 factors into account:\n",
    "-\tSale of different categories by state (takes into account state importance + sales amount)\n",
    "-\tCustomer satisfaction\n",
    "-\tTime for completion\n",
    "-\tChange across time\n",
    "\n",
    "OBS: normalization in this analysis refers to transforming the metric values so they all add up to 1.\n",
    "\n",
    "To come up with this metric, let's first create a dictionary for each category with the required data."
   ]
  },
  {
   "cell_type": "code",
   "execution_count": 29,
   "id": "fe969c5f",
   "metadata": {},
   "outputs": [
    {
     "data": {
      "text/plain": [
       "array(['Data Privacy', 'Cyber Consultation', 'Cyber Security Breach',\n",
       "       'Security Gap', 'Data Leak'], dtype=object)"
      ]
     },
     "execution_count": 29,
     "metadata": {},
     "output_type": "execute_result"
    }
   ],
   "source": [
    "# Store category names\n",
    "cat_names = data['Category'].unique()\n",
    "cat_names"
   ]
  },
  {
   "cell_type": "code",
   "execution_count": 30,
   "id": "cefa43cc",
   "metadata": {},
   "outputs": [
    {
     "data": {
      "text/plain": [
       "{'Data Privacy': None,\n",
       " 'Cyber Consultation': None,\n",
       " 'Cyber Security Breach': None,\n",
       " 'Security Gap': None,\n",
       " 'Data Leak': None}"
      ]
     },
     "execution_count": 30,
     "metadata": {},
     "output_type": "execute_result"
    }
   ],
   "source": [
    "# Create dict and store category names as keys\n",
    "cat_eval_dict = {}\n",
    "for cat in cat_names: cat_eval_dict[cat] = None\n",
    "cat_eval_dict"
   ]
  },
  {
   "cell_type": "markdown",
   "id": "46ab3cae",
   "metadata": {},
   "source": [
    "### Sale of different categories by state"
   ]
  },
  {
   "cell_type": "code",
   "execution_count": 31,
   "id": "ff6de97e",
   "metadata": {},
   "outputs": [
    {
     "name": "stdout",
     "output_type": "stream",
     "text": [
      "True\n"
     ]
    },
    {
     "data": {
      "text/html": [
       "<div>\n",
       "<style scoped>\n",
       "    .dataframe tbody tr th:only-of-type {\n",
       "        vertical-align: middle;\n",
       "    }\n",
       "\n",
       "    .dataframe tbody tr th {\n",
       "        vertical-align: top;\n",
       "    }\n",
       "\n",
       "    .dataframe thead th {\n",
       "        text-align: right;\n",
       "    }\n",
       "</style>\n",
       "<table border=\"1\" class=\"dataframe\">\n",
       "  <thead>\n",
       "    <tr style=\"text-align: right;\">\n",
       "      <th></th>\n",
       "      <th>Category</th>\n",
       "      <th>State</th>\n",
       "      <th>Count</th>\n",
       "    </tr>\n",
       "  </thead>\n",
       "  <tbody>\n",
       "    <tr>\n",
       "      <th>0</th>\n",
       "      <td>Cyber Consultation</td>\n",
       "      <td>Arizona</td>\n",
       "      <td>4</td>\n",
       "    </tr>\n",
       "    <tr>\n",
       "      <th>1</th>\n",
       "      <td>Cyber Consultation</td>\n",
       "      <td>California</td>\n",
       "      <td>37</td>\n",
       "    </tr>\n",
       "    <tr>\n",
       "      <th>2</th>\n",
       "      <td>Cyber Consultation</td>\n",
       "      <td>Colorado</td>\n",
       "      <td>3</td>\n",
       "    </tr>\n",
       "    <tr>\n",
       "      <th>3</th>\n",
       "      <td>Cyber Consultation</td>\n",
       "      <td>Florida</td>\n",
       "      <td>15</td>\n",
       "    </tr>\n",
       "    <tr>\n",
       "      <th>4</th>\n",
       "      <td>Cyber Consultation</td>\n",
       "      <td>Georgia</td>\n",
       "      <td>5</td>\n",
       "    </tr>\n",
       "    <tr>\n",
       "      <th>...</th>\n",
       "      <td>...</td>\n",
       "      <td>...</td>\n",
       "      <td>...</td>\n",
       "    </tr>\n",
       "    <tr>\n",
       "      <th>71</th>\n",
       "      <td>Security Gap</td>\n",
       "      <td>New York</td>\n",
       "      <td>6</td>\n",
       "    </tr>\n",
       "    <tr>\n",
       "      <th>72</th>\n",
       "      <td>Security Gap</td>\n",
       "      <td>Pennsylvania</td>\n",
       "      <td>1</td>\n",
       "    </tr>\n",
       "    <tr>\n",
       "      <th>73</th>\n",
       "      <td>Security Gap</td>\n",
       "      <td>Texas</td>\n",
       "      <td>1</td>\n",
       "    </tr>\n",
       "    <tr>\n",
       "      <th>74</th>\n",
       "      <td>Security Gap</td>\n",
       "      <td>Utah</td>\n",
       "      <td>1</td>\n",
       "    </tr>\n",
       "    <tr>\n",
       "      <th>75</th>\n",
       "      <td>Security Gap</td>\n",
       "      <td>Virginia</td>\n",
       "      <td>3</td>\n",
       "    </tr>\n",
       "  </tbody>\n",
       "</table>\n",
       "<p>76 rows × 3 columns</p>\n",
       "</div>"
      ],
      "text/plain": [
       "              Category         State  Count\n",
       "0   Cyber Consultation       Arizona      4\n",
       "1   Cyber Consultation    California     37\n",
       "2   Cyber Consultation      Colorado      3\n",
       "3   Cyber Consultation       Florida     15\n",
       "4   Cyber Consultation       Georgia      5\n",
       "..                 ...           ...    ...\n",
       "71        Security Gap      New York      6\n",
       "72        Security Gap  Pennsylvania      1\n",
       "73        Security Gap         Texas      1\n",
       "74        Security Gap          Utah      1\n",
       "75        Security Gap      Virginia      3\n",
       "\n",
       "[76 rows x 3 columns]"
      ]
     },
     "execution_count": 31,
     "metadata": {},
     "output_type": "execute_result"
    }
   ],
   "source": [
    "# Create new dataframe with only data from relevant states\n",
    "data_relevant = data.loc[data['State'].isin(relevant_states),:].reset_index().drop(['index'], axis=1)\n",
    "print(len(data_relevant['State'].unique()) == len(relevant_states)) # conversion done correctly\n",
    "\n",
    "# Group by category and state\n",
    "count_bycatstate = data_relevant.groupby(['Category', 'State'])\n",
    "\n",
    "# Count occurences of tickets for each category in each state and store it in a column named 'Count'\n",
    "count_bycatstate = count_bycatstate['Ticket No'].size().reset_index(name='Count')\n",
    "count_bycatstate"
   ]
  },
  {
   "cell_type": "code",
   "execution_count": 32,
   "id": "5357153d",
   "metadata": {},
   "outputs": [
    {
     "data": {
      "text/html": [
       "<div>\n",
       "<style scoped>\n",
       "    .dataframe tbody tr th:only-of-type {\n",
       "        vertical-align: middle;\n",
       "    }\n",
       "\n",
       "    .dataframe tbody tr th {\n",
       "        vertical-align: top;\n",
       "    }\n",
       "\n",
       "    .dataframe thead th {\n",
       "        text-align: right;\n",
       "    }\n",
       "</style>\n",
       "<table border=\"1\" class=\"dataframe\">\n",
       "  <thead>\n",
       "    <tr style=\"text-align: right;\">\n",
       "      <th></th>\n",
       "      <th>Category</th>\n",
       "      <th>State</th>\n",
       "      <th>Count</th>\n",
       "      <th>Rank</th>\n",
       "      <th>Cat Score</th>\n",
       "    </tr>\n",
       "  </thead>\n",
       "  <tbody>\n",
       "    <tr>\n",
       "      <th>54</th>\n",
       "      <td>Data Privacy</td>\n",
       "      <td>Michigan</td>\n",
       "      <td>6</td>\n",
       "      <td>1</td>\n",
       "      <td>6.00</td>\n",
       "    </tr>\n",
       "    <tr>\n",
       "      <th>38</th>\n",
       "      <td>Data Leak</td>\n",
       "      <td>Michigan</td>\n",
       "      <td>5</td>\n",
       "      <td>2</td>\n",
       "      <td>2.50</td>\n",
       "    </tr>\n",
       "    <tr>\n",
       "      <th>23</th>\n",
       "      <td>Cyber Security Breach</td>\n",
       "      <td>Michigan</td>\n",
       "      <td>1</td>\n",
       "      <td>3</td>\n",
       "      <td>0.33</td>\n",
       "    </tr>\n",
       "  </tbody>\n",
       "</table>\n",
       "</div>"
      ],
      "text/plain": [
       "                 Category     State  Count  Rank  Cat Score\n",
       "54           Data Privacy  Michigan      6     1       6.00\n",
       "38              Data Leak  Michigan      5     2       2.50\n",
       "23  Cyber Security Breach  Michigan      1     3       0.33"
      ]
     },
     "execution_count": 32,
     "metadata": {},
     "output_type": "execute_result"
    }
   ],
   "source": [
    "# Rank all categories on # of tickets by state\n",
    "# Create new dictionary to store category rankings\n",
    "sales_bycatstate = {}\n",
    "\n",
    "# Create a dataframe with the count and rank of each category by state and store it under a key of the state's name\n",
    "for state in relevant_states:\n",
    "    # create data frame for state\n",
    "    curr_state = count_bycatstate[count_bycatstate['State'] == state].sort_values('Count', ascending=False)\n",
    "    # create ranking column\n",
    "    rank_col = np.arange(1,len(curr_state)+1)\n",
    "    curr_state['Rank'] = rank_col\n",
    "    # create score column - metric which takes into account state relevance (total tickets in the state) and the category's ranking\n",
    "    curr_state['Cat Score'] = round(curr_state['Count'] / curr_state['Rank'],2)\n",
    "    # store under key representing the state\n",
    "    sales_bycatstate[state] = curr_state\n",
    "sales_bycatstate['Michigan']"
   ]
  },
  {
   "cell_type": "code",
   "execution_count": 33,
   "id": "77c8e7b5",
   "metadata": {},
   "outputs": [
    {
     "data": {
      "text/plain": [
       "<AxesSubplot:xlabel='Cat Score', ylabel='Category'>"
      ]
     },
     "execution_count": 33,
     "metadata": {},
     "output_type": "execute_result"
    },
    {
     "data": {
      "image/png": "[encoded data removed]",
      "text/plain": [
       "<Figure size 1080x360 with 1 Axes>"
      ]
     },
     "metadata": {
      "needs_background": "light"
     },
     "output_type": "display_data"
    }
   ],
   "source": [
    "# Visualize scores for each category in a scatterplot\n",
    "# Store all data into a single dataframe\n",
    "data_sales_grouped = pd.concat(sales_bycatstate.values(), ignore_index=True)\n",
    "\n",
    "# change default plot size\n",
    "plt.rcParams[\"figure.figsize\"] = (15,5)\n",
    "# create boxplot\n",
    "sns.boxplot(x=\"Cat Score\", y=\"Category\", data=data_sales_grouped, palette='rocket')"
   ]
  },
  {
   "cell_type": "code",
   "execution_count": 34,
   "id": "b1f1f860",
   "metadata": {},
   "outputs": [
    {
     "data": {
      "text/plain": [
       "<AxesSubplot:xlabel='Cat Score', ylabel='Category'>"
      ]
     },
     "execution_count": 34,
     "metadata": {},
     "output_type": "execute_result"
    },
    {
     "data": {
      "image/png": "[encoded data removed]",
      "text/plain": [
       "<Figure size 1080x360 with 1 Axes>"
      ]
     },
     "metadata": {
      "needs_background": "light"
     },
     "output_type": "display_data"
    }
   ],
   "source": [
    "# create new boxplot from range 0 to 20 in terms of Cat Score due to outlier\n",
    "plt.xlim(0, 20)\n",
    "sns.boxplot(x=\"Cat Score\", y=\"Category\", data=data_sales_grouped, palette='rocket')"
   ]
  },
  {
   "cell_type": "code",
   "execution_count": 35,
   "id": "a675fd61",
   "metadata": {},
   "outputs": [
    {
     "name": "stderr",
     "output_type": "stream",
     "text": [
      "C:\\Users\\Guilherme\\anaconda3\\lib\\site-packages\\seaborn\\_decorators.py:36: FutureWarning: Pass the following variables as keyword args: x, y. From version 0.12, the only valid positional argument will be `data`, and passing other arguments without an explicit keyword will result in an error or misinterpretation.\n",
      "  warnings.warn(\n"
     ]
    },
    {
     "data": {
      "text/plain": [
       "<AxesSubplot:xlabel='Cat Score', ylabel='Category'>"
      ]
     },
     "execution_count": 35,
     "metadata": {},
     "output_type": "execute_result"
    },
    {
     "data": {
      "image/png": "[encoded data removed]",
      "text/plain": [
       "<Figure size 1080x360 with 1 Axes>"
      ]
     },
     "metadata": {
      "needs_background": "light"
     },
     "output_type": "display_data"
    }
   ],
   "source": [
    "# create scatteplot\n",
    "sns.scatterplot('Cat Score', 'Category', data=data_sales_grouped, color='purple')"
   ]
  },
  {
   "cell_type": "code",
   "execution_count": 36,
   "id": "413e1108",
   "metadata": {},
   "outputs": [
    {
     "name": "stderr",
     "output_type": "stream",
     "text": [
      "C:\\Users\\Guilherme\\anaconda3\\lib\\site-packages\\seaborn\\_decorators.py:36: FutureWarning: Pass the following variables as keyword args: x, y. From version 0.12, the only valid positional argument will be `data`, and passing other arguments without an explicit keyword will result in an error or misinterpretation.\n",
      "  warnings.warn(\n"
     ]
    },
    {
     "data": {
      "text/plain": [
       "<AxesSubplot:xlabel='Cat Score', ylabel='Category'>"
      ]
     },
     "execution_count": 36,
     "metadata": {},
     "output_type": "execute_result"
    },
    {
     "data": {
      "image/png": "[encoded data removed]",
      "text/plain": [
       "<Figure size 1080x360 with 1 Axes>"
      ]
     },
     "metadata": {
      "needs_background": "light"
     },
     "output_type": "display_data"
    }
   ],
   "source": [
    "# create new scatterplot from range 0 to 20 in terms of Cat Score due to outlier\n",
    "plt.xlim(0, 20)\n",
    "sns.scatterplot('Cat Score', 'Category', data=data_sales_grouped, color='purple')"
   ]
  },
  {
   "cell_type": "code",
   "execution_count": 37,
   "id": "7786bd70",
   "metadata": {},
   "outputs": [
    {
     "data": {
      "text/plain": [
       "[('Data Privacy', 161.83, 0.525),\n",
       " ('Cyber Consultation', 71.33, 0.231),\n",
       " ('Cyber Security Breach', 30.86, 0.1),\n",
       " ('Security Gap', 9.53, 0.031),\n",
       " ('Data Leak', 34.78, 0.113)]"
      ]
     },
     "execution_count": 37,
     "metadata": {},
     "output_type": "execute_result"
    }
   ],
   "source": [
    "# Sum total score for each category (total among all states) and store in a list\n",
    "state_scores = []\n",
    "# sum total cat score for ratio calculation\n",
    "total_score = data_sales_grouped['Cat Score'].sum()\n",
    "for cat in cat_names:\n",
    "    # cumulative score for category\n",
    "    score = data_sales_grouped[data_sales_grouped['Category'] == cat]['Cat Score'].sum()\n",
    "    # calculate ratio for each category from sum of cat score for all categories\n",
    "    ratio = round(score / total_score, 3)\n",
    "    # add category data as a tuple to list\n",
    "    state_scores.append((cat, round(score,2), ratio))\n",
    "state_scores # list with metric for each category (state score) - the higher the better"
   ]
  },
  {
   "cell_type": "markdown",
   "id": "c2d4fc84",
   "metadata": {},
   "source": [
    "### Customer Satisfaction"
   ]
  },
  {
   "cell_type": "code",
   "execution_count": 38,
   "id": "fe72ef02",
   "metadata": {},
   "outputs": [
    {
     "data": {
      "text/plain": [
       "4.05103668261563"
      ]
     },
     "execution_count": 38,
     "metadata": {},
     "output_type": "execute_result"
    }
   ],
   "source": [
    "# Calculate average rating for entire dataset\n",
    "avg_rating = data['Customer Rating (#)'].mean()\n",
    "avg_rating"
   ]
  },
  {
   "cell_type": "code",
   "execution_count": 39,
   "id": "ecd5bbfd",
   "metadata": {},
   "outputs": [
    {
     "data": {
      "text/plain": [
       "[('Data Privacy', 4.08),\n",
       " ('Cyber Consultation', 3.92),\n",
       " ('Cyber Security Breach', 4.16),\n",
       " ('Security Gap', 4.04),\n",
       " ('Data Leak', 4.09)]"
      ]
     },
     "execution_count": 39,
     "metadata": {},
     "output_type": "execute_result"
    }
   ],
   "source": [
    "# Calculate average rating for each category\n",
    "avg_ratingsbycat = []\n",
    "for cat in cat_names:\n",
    "    avg_catrating = data[data['Category'] == cat]['Customer Rating (#)'].mean()\n",
    "    avg_ratingsbycat.append((cat, round(avg_catrating,2)))\n",
    "avg_ratingsbycat"
   ]
  },
  {
   "cell_type": "code",
   "execution_count": 40,
   "id": "fadf24af",
   "metadata": {},
   "outputs": [
    {
     "data": {
      "text/plain": [
       "20.29"
      ]
     },
     "execution_count": 40,
     "metadata": {},
     "output_type": "execute_result"
    }
   ],
   "source": [
    "# Normalize average category rating so it adds up to 1\n",
    "# sum all averages\n",
    "sum_avgs = 0\n",
    "for tup in avg_ratingsbycat:\n",
    "    sum_avgs += tup[1]\n",
    "sum_avgs"
   ]
  },
  {
   "cell_type": "code",
   "execution_count": 41,
   "id": "49bf61b4",
   "metadata": {},
   "outputs": [
    {
     "data": {
      "text/plain": [
       "[('Data Privacy', 4.08, 0.201),\n",
       " ('Cyber Consultation', 3.92, 0.193),\n",
       " ('Cyber Security Breach', 4.16, 0.205),\n",
       " ('Security Gap', 4.04, 0.199),\n",
       " ('Data Leak', 4.09, 0.202)]"
      ]
     },
     "execution_count": 41,
     "metadata": {},
     "output_type": "execute_result"
    }
   ],
   "source": [
    "# Create list to store normalized scores\n",
    "custsat_scores = [] # list to store metric - customer satisfaction score\n",
    "for tup in avg_ratingsbycat:\n",
    "    cat = tup[0] # category\n",
    "    avg_rating = tup[1] # average rating for the category\n",
    "    score = avg_rating / sum_avgs # normalize rating\n",
    "    custsat_scores.append((cat, avg_rating, round(score,3)))\n",
    "custsat_scores # list with metric for each category (customer satisfaction score) - the higher the better"
   ]
  },
  {
   "cell_type": "markdown",
   "id": "44d5d9fa",
   "metadata": {},
   "source": [
    "### Time for Completion\n",
    "\n",
    "Metric = average time (in days) taken to complete ticket request (from creation to completion) by category"
   ]
  },
  {
   "cell_type": "code",
   "execution_count": 42,
   "id": "3486eb86",
   "metadata": {},
   "outputs": [
    {
     "data": {
      "text/html": [
       "<div>\n",
       "<style scoped>\n",
       "    .dataframe tbody tr th:only-of-type {\n",
       "        vertical-align: middle;\n",
       "    }\n",
       "\n",
       "    .dataframe tbody tr th {\n",
       "        vertical-align: top;\n",
       "    }\n",
       "\n",
       "    .dataframe thead th {\n",
       "        text-align: right;\n",
       "    }\n",
       "</style>\n",
       "<table border=\"1\" class=\"dataframe\">\n",
       "  <thead>\n",
       "    <tr style=\"text-align: right;\">\n",
       "      <th></th>\n",
       "      <th>Category</th>\n",
       "      <th>Total Ticket Time</th>\n",
       "    </tr>\n",
       "  </thead>\n",
       "  <tbody>\n",
       "    <tr>\n",
       "      <th>0</th>\n",
       "      <td>Cyber Consultation</td>\n",
       "      <td>14.926928</td>\n",
       "    </tr>\n",
       "    <tr>\n",
       "      <th>1</th>\n",
       "      <td>Cyber Security Breach</td>\n",
       "      <td>15.344792</td>\n",
       "    </tr>\n",
       "    <tr>\n",
       "      <th>2</th>\n",
       "      <td>Data Leak</td>\n",
       "      <td>24.236581</td>\n",
       "    </tr>\n",
       "    <tr>\n",
       "      <th>3</th>\n",
       "      <td>Data Privacy</td>\n",
       "      <td>13.016381</td>\n",
       "    </tr>\n",
       "    <tr>\n",
       "      <th>4</th>\n",
       "      <td>Security Gap</td>\n",
       "      <td>18.231569</td>\n",
       "    </tr>\n",
       "  </tbody>\n",
       "</table>\n",
       "</div>"
      ],
      "text/plain": [
       "                Category  Total Ticket Time\n",
       "0     Cyber Consultation          14.926928\n",
       "1  Cyber Security Breach          15.344792\n",
       "2              Data Leak          24.236581\n",
       "3           Data Privacy          13.016381\n",
       "4           Security Gap          18.231569"
      ]
     },
     "execution_count": 42,
     "metadata": {},
     "output_type": "execute_result"
    }
   ],
   "source": [
    "# Group by category and take the mean 'Total Ticket Time'\n",
    "avg_tttgrouped = data.groupby(['Category'])['Total Ticket Time'].mean().reset_index() # .index, .values\n",
    "avg_tttgrouped"
   ]
  },
  {
   "cell_type": "code",
   "execution_count": 43,
   "id": "e000a44a",
   "metadata": {},
   "outputs": [
    {
     "name": "stdout",
     "output_type": "stream",
     "text": [
      "3.050978428130943\n"
     ]
    },
    {
     "data": {
      "text/plain": [
       "[('Data Privacy', 0.77, 0.252),\n",
       " ('Cyber Consultation', 0.67, 0.22),\n",
       " ('Cyber Security Breach', 0.65, 0.214),\n",
       " ('Security Gap', 0.55, 0.18),\n",
       " ('Data Leak', 0.41, 0.135)]"
      ]
     },
     "execution_count": 43,
     "metadata": {},
     "output_type": "execute_result"
    }
   ],
   "source": [
    "# Store category, average ticket time and normalized score in a list of tuples\n",
    "time_scores = [] # list to store metric - time for completion score\n",
    "sum_tttscores = 0 # sum of all scores - needed to compute normalized metric\n",
    "\n",
    "# loop to add sum of all scores (needed for normalization score calculation)\n",
    "for i in range(len(avg_tttgrouped)):\n",
    "    sum_tttscores += 10 / avg_tttgrouped['Total Ticket Time'][i] \n",
    "print(sum_tttscores)\n",
    "\n",
    "# loop to calculate score and normalize it\n",
    "for cat in cat_names:\n",
    "    score = 10 / avg_tttgrouped['Total Ticket Time'][avg_tttgrouped['Category'] == cat].values[0] # calculate score\n",
    "    norm_score = score / sum_tttscores # standardize score\n",
    "    time_scores.append((cat, round(score, 2), round(norm_score, 3))) # add tuple for the category to list\n",
    "time_scores # list with metric for each category (time for completion score) - the higher the better"
   ]
  },
  {
   "cell_type": "markdown",
   "id": "3f94975f",
   "metadata": {},
   "source": [
    "### Change in requested tickets across time"
   ]
  },
  {
   "cell_type": "code",
   "execution_count": 44,
   "id": "b5649ec4",
   "metadata": {},
   "outputs": [
    {
     "data": {
      "text/html": [
       "<div>\n",
       "<style scoped>\n",
       "    .dataframe tbody tr th:only-of-type {\n",
       "        vertical-align: middle;\n",
       "    }\n",
       "\n",
       "    .dataframe tbody tr th {\n",
       "        vertical-align: top;\n",
       "    }\n",
       "\n",
       "    .dataframe thead th {\n",
       "        text-align: right;\n",
       "    }\n",
       "</style>\n",
       "<table border=\"1\" class=\"dataframe\">\n",
       "  <thead>\n",
       "    <tr style=\"text-align: right;\">\n",
       "      <th></th>\n",
       "      <th>Ticket No</th>\n",
       "      <th>Priority</th>\n",
       "      <th>State</th>\n",
       "      <th>Category</th>\n",
       "      <th>Skill Team</th>\n",
       "      <th>Create Date</th>\n",
       "      <th>Picked Date</th>\n",
       "      <th>Completed Date</th>\n",
       "      <th>Outcome</th>\n",
       "      <th>Reached via</th>\n",
       "      <th>Customer Rating (#)</th>\n",
       "      <th>Total Ticket Time</th>\n",
       "      <th>Created Month</th>\n",
       "    </tr>\n",
       "  </thead>\n",
       "  <tbody>\n",
       "    <tr>\n",
       "      <th>0</th>\n",
       "      <td>T01</td>\n",
       "      <td>High</td>\n",
       "      <td>California</td>\n",
       "      <td>Data Privacy</td>\n",
       "      <td>IT</td>\n",
       "      <td>2021-01-03 12:46:36</td>\n",
       "      <td>2021-01-03 12:48:31</td>\n",
       "      <td>2021-06-03 16:35:26</td>\n",
       "      <td>Advised for a risk assessment</td>\n",
       "      <td>Personal Call</td>\n",
       "      <td>5</td>\n",
       "      <td>151.16</td>\n",
       "      <td>Jan</td>\n",
       "    </tr>\n",
       "    <tr>\n",
       "      <th>1</th>\n",
       "      <td>T02</td>\n",
       "      <td>Low</td>\n",
       "      <td>Minnesota</td>\n",
       "      <td>Cyber Consultation</td>\n",
       "      <td>IT</td>\n",
       "      <td>2021-01-04 09:52:44</td>\n",
       "      <td>2021-01-04 10:12:46</td>\n",
       "      <td>2021-01-17 09:44:31</td>\n",
       "      <td>Recommended Threat Assessment</td>\n",
       "      <td>Ticket Portal</td>\n",
       "      <td>5</td>\n",
       "      <td>12.99</td>\n",
       "      <td>Jan</td>\n",
       "    </tr>\n",
       "    <tr>\n",
       "      <th>2</th>\n",
       "      <td>T03</td>\n",
       "      <td>High</td>\n",
       "      <td>Maryland</td>\n",
       "      <td>Cyber Security Breach</td>\n",
       "      <td>HR</td>\n",
       "      <td>2021-01-04 10:11:07</td>\n",
       "      <td>2021-01-04 10:11:31</td>\n",
       "      <td>2021-01-04 11:43:40</td>\n",
       "      <td>Recommended Threat Assessment</td>\n",
       "      <td>Personal Call</td>\n",
       "      <td>5</td>\n",
       "      <td>0.06</td>\n",
       "      <td>Jan</td>\n",
       "    </tr>\n",
       "    <tr>\n",
       "      <th>3</th>\n",
       "      <td>T04</td>\n",
       "      <td>Low</td>\n",
       "      <td>New York</td>\n",
       "      <td>Security Gap</td>\n",
       "      <td>IT</td>\n",
       "      <td>2021-01-04 10:55:13</td>\n",
       "      <td>2021-01-04 10:55:31</td>\n",
       "      <td>2021-01-18 11:06:54</td>\n",
       "      <td>Advised for a risk assessment</td>\n",
       "      <td>Ticket Portal</td>\n",
       "      <td>5</td>\n",
       "      <td>14.01</td>\n",
       "      <td>Jan</td>\n",
       "    </tr>\n",
       "    <tr>\n",
       "      <th>4</th>\n",
       "      <td>T05</td>\n",
       "      <td>High</td>\n",
       "      <td>California</td>\n",
       "      <td>Cyber Security Breach</td>\n",
       "      <td>Legal</td>\n",
       "      <td>2021-01-04 21:58:33</td>\n",
       "      <td>2021-01-04 22:13:03</td>\n",
       "      <td>2021-01-11 12:20:42</td>\n",
       "      <td>Recommended Threat Assessment</td>\n",
       "      <td>Ticket Portal</td>\n",
       "      <td>5</td>\n",
       "      <td>6.60</td>\n",
       "      <td>Jan</td>\n",
       "    </tr>\n",
       "  </tbody>\n",
       "</table>\n",
       "</div>"
      ],
      "text/plain": [
       "  Ticket No Priority       State               Category Skill Team  \\\n",
       "0       T01     High  California           Data Privacy         IT   \n",
       "1       T02      Low   Minnesota     Cyber Consultation         IT   \n",
       "2       T03     High    Maryland  Cyber Security Breach         HR   \n",
       "3       T04      Low    New York           Security Gap         IT   \n",
       "4       T05     High  California  Cyber Security Breach      Legal   \n",
       "\n",
       "          Create Date         Picked Date      Completed Date  \\\n",
       "0 2021-01-03 12:46:36 2021-01-03 12:48:31 2021-06-03 16:35:26   \n",
       "1 2021-01-04 09:52:44 2021-01-04 10:12:46 2021-01-17 09:44:31   \n",
       "2 2021-01-04 10:11:07 2021-01-04 10:11:31 2021-01-04 11:43:40   \n",
       "3 2021-01-04 10:55:13 2021-01-04 10:55:31 2021-01-18 11:06:54   \n",
       "4 2021-01-04 21:58:33 2021-01-04 22:13:03 2021-01-11 12:20:42   \n",
       "\n",
       "                         Outcome    Reached via  Customer Rating (#)  \\\n",
       "0  Advised for a risk assessment  Personal Call                    5   \n",
       "1  Recommended Threat Assessment  Ticket Portal                    5   \n",
       "2  Recommended Threat Assessment  Personal Call                    5   \n",
       "3  Advised for a risk assessment  Ticket Portal                    5   \n",
       "4  Recommended Threat Assessment  Ticket Portal                    5   \n",
       "\n",
       "   Total Ticket Time Created Month  \n",
       "0             151.16           Jan  \n",
       "1              12.99           Jan  \n",
       "2               0.06           Jan  \n",
       "3              14.01           Jan  \n",
       "4               6.60           Jan  "
      ]
     },
     "execution_count": 44,
     "metadata": {},
     "output_type": "execute_result"
    }
   ],
   "source": [
    "# Take ticket count per category for every month\n",
    "data['Created Month'] = pd.to_datetime(data['Create Date']).dt.month_name().str[:3]\n",
    "data.head() # looks good"
   ]
  },
  {
   "cell_type": "code",
   "execution_count": 45,
   "id": "a2db7ca3",
   "metadata": {},
   "outputs": [
    {
     "data": {
      "text/html": [
       "<div>\n",
       "<style scoped>\n",
       "    .dataframe tbody tr th:only-of-type {\n",
       "        vertical-align: middle;\n",
       "    }\n",
       "\n",
       "    .dataframe tbody tr th {\n",
       "        vertical-align: top;\n",
       "    }\n",
       "\n",
       "    .dataframe thead th {\n",
       "        text-align: right;\n",
       "    }\n",
       "</style>\n",
       "<table border=\"1\" class=\"dataframe\">\n",
       "  <thead>\n",
       "    <tr style=\"text-align: right;\">\n",
       "      <th></th>\n",
       "      <th>Category</th>\n",
       "      <th>Created Month</th>\n",
       "      <th>Count</th>\n",
       "    </tr>\n",
       "  </thead>\n",
       "  <tbody>\n",
       "    <tr>\n",
       "      <th>0</th>\n",
       "      <td>Cyber Consultation</td>\n",
       "      <td>Apr</td>\n",
       "      <td>22</td>\n",
       "    </tr>\n",
       "    <tr>\n",
       "      <th>1</th>\n",
       "      <td>Cyber Consultation</td>\n",
       "      <td>Aug</td>\n",
       "      <td>19</td>\n",
       "    </tr>\n",
       "    <tr>\n",
       "      <th>2</th>\n",
       "      <td>Cyber Consultation</td>\n",
       "      <td>Dec</td>\n",
       "      <td>6</td>\n",
       "    </tr>\n",
       "    <tr>\n",
       "      <th>3</th>\n",
       "      <td>Cyber Consultation</td>\n",
       "      <td>Feb</td>\n",
       "      <td>4</td>\n",
       "    </tr>\n",
       "    <tr>\n",
       "      <th>4</th>\n",
       "      <td>Cyber Consultation</td>\n",
       "      <td>Jan</td>\n",
       "      <td>17</td>\n",
       "    </tr>\n",
       "  </tbody>\n",
       "</table>\n",
       "</div>"
      ],
      "text/plain": [
       "             Category Created Month  Count\n",
       "0  Cyber Consultation           Apr     22\n",
       "1  Cyber Consultation           Aug     19\n",
       "2  Cyber Consultation           Dec      6\n",
       "3  Cyber Consultation           Feb      4\n",
       "4  Cyber Consultation           Jan     17"
      ]
     },
     "execution_count": 45,
     "metadata": {},
     "output_type": "execute_result"
    }
   ],
   "source": [
    "# Create new dataframe for plotting purposes with count of category per month\n",
    "data_gby_catmon = data.groupby(['Category', 'Created Month'])['Ticket No'].count().reset_index(name='Count')\n",
    "data_gby_catmon.head()"
   ]
  },
  {
   "cell_type": "code",
   "execution_count": 46,
   "id": "0e489a73",
   "metadata": {},
   "outputs": [
    {
     "data": {
      "image/png": "[encoded data removed]",
      "text/plain": [
       "<Figure size 1800x360 with 1 Axes>"
      ]
     },
     "metadata": {
      "needs_background": "light"
     },
     "output_type": "display_data"
    },
    {
     "data": {
      "image/png": "[encoded data removed]",
      "text/plain": [
       "<Figure size 1800x360 with 1 Axes>"
      ]
     },
     "metadata": {
      "needs_background": "light"
     },
     "output_type": "display_data"
    },
    {
     "data": {
      "image/png": "[encoded data removed]",
      "text/plain": [
       "<Figure size 1800x360 with 1 Axes>"
      ]
     },
     "metadata": {
      "needs_background": "light"
     },
     "output_type": "display_data"
    },
    {
     "data": {
      "image/png": "[encoded data removed]",
      "text/plain": [
       "<Figure size 1800x360 with 1 Axes>"
      ]
     },
     "metadata": {
      "needs_background": "light"
     },
     "output_type": "display_data"
    },
    {
     "data": {
      "image/png": "[encoded data removed]",
      "text/plain": [
       "<Figure size 1800x360 with 1 Axes>"
      ]
     },
     "metadata": {
      "needs_background": "light"
     },
     "output_type": "display_data"
    }
   ],
   "source": [
    "# Visualize ticket count evolution across time\n",
    "months=['Jan', 'Feb', 'Mar', 'Apr', 'May', 'Jun', 'Jul', 'Aug', 'Sep', 'Oct', 'Nov', 'Dec']\n",
    "for cat in cat_names:\n",
    "    # set plot figure\n",
    "    fig = plt.figure(figsize=(25,5))\n",
    "    ax1 = fig.add_subplot(121)\n",
    "    \n",
    "    # filter data to only contain values of the category being evaluated\n",
    "    df = data_gby_catmon[data_gby_catmon['Category'] == cat]\n",
    "    \n",
    "    # plot evolution of ticket requests across time by category\n",
    "    ax1 = sns.barplot(y='Created Month', x='Count', data=df, order=months, palette='rocket')\n",
    "    plt.xlim(0,35)\n",
    "    ax1.set_title(cat)"
   ]
  },
  {
   "cell_type": "code",
   "execution_count": 47,
   "id": "34c1d70b",
   "metadata": {},
   "outputs": [
    {
     "data": {
      "text/plain": [
       "([['Data Privacy', 0.0833],\n",
       "  ['Cyber Consultation', -0.6471],\n",
       "  ['Cyber Security Breach', -0.6667],\n",
       "  ['Security Gap', 1.0],\n",
       "  ['Data Leak', -0.375]],\n",
       " -0.6666666666666666)"
      ]
     },
     "execution_count": 47,
     "metadata": {},
     "output_type": "execute_result"
    }
   ],
   "source": [
    "# Get rate of change for each category (value at December - value at January) (metric) and normalize it\n",
    "temp_list = []\n",
    "min_rate = None\n",
    "for cat in cat_names:\n",
    "    cat_df = data_gby_catmon[data_gby_catmon['Category'] == cat] # create dataframe with only values for a category\n",
    "    beg_count = cat_df[cat_df['Created Month'] == 'Jan']['Count'].values[0] # value at the first month of the year\n",
    "    end_count = cat_df[cat_df['Created Month'] == 'Dec']['Count'].values[0] # value at the last month of the year \n",
    "    rate = (end_count - beg_count) / beg_count\n",
    "    if min_rate == None:\n",
    "        min_rate = rate\n",
    "    elif rate < min_rate:\n",
    "        min_rate = rate\n",
    "    temp_list.append([cat, round(rate, 4)])\n",
    "temp_list, min_rate"
   ]
  },
  {
   "cell_type": "code",
   "execution_count": 48,
   "id": "f7a83ff5",
   "metadata": {},
   "outputs": [
    {
     "data": {
      "text/plain": [
       "([['Data Privacy', 0.75],\n",
       "  ['Cyber Consultation', 0.0196],\n",
       "  ['Cyber Security Breach', -0.0],\n",
       "  ['Security Gap', 1.6667],\n",
       "  ['Data Leak', 0.2917]],\n",
       " 2.728)"
      ]
     },
     "execution_count": 48,
     "metadata": {},
     "output_type": "execute_result"
    }
   ],
   "source": [
    "# Convert all rates to a positive value and calculate sum of rates\n",
    "rate_sum = 0 # needed for normalized metric\n",
    "for l in temp_list:\n",
    "    l[1] = round(l[1] + abs(min_rate), 4)\n",
    "    rate_sum += l[1]\n",
    "temp_list, rate_sum"
   ]
  },
  {
   "cell_type": "code",
   "execution_count": 49,
   "id": "354df6f0",
   "metadata": {},
   "outputs": [
    {
     "data": {
      "text/plain": [
       "[('Data Privacy', 0.75, 0.275),\n",
       " ('Cyber Consultation', 0.0196, 0.007),\n",
       " ('Cyber Security Breach', -0.0, -0.0),\n",
       " ('Security Gap', 1.6667, 0.611),\n",
       " ('Data Leak', 0.2917, 0.107)]"
      ]
     },
     "execution_count": 49,
     "metadata": {},
     "output_type": "execute_result"
    }
   ],
   "source": [
    "# Normalize scores\n",
    "rate_scores = [] # list to store metric - rate of change score\n",
    "for l in temp_list:\n",
    "    cat = l[0]\n",
    "    score = l[1]\n",
    "    norm_score = score / rate_sum\n",
    "    rate_scores.append((cat, score, round(norm_score, 3)))\n",
    "rate_scores # list with metric for each category (rate of change score) - the higher the better"
   ]
  },
  {
   "cell_type": "markdown",
   "id": "7041cea6",
   "metadata": {},
   "source": [
    "### Final Metric"
   ]
  },
  {
   "cell_type": "markdown",
   "id": "d7aa5609",
   "metadata": {},
   "source": [
    "    1.\tEvaluate which categories are doing better.\n",
    "        a.\tHow does the sale of different categories vary by state?\n",
    "        b.\tWhich categories have higher customer satisfaction? Which have lower?\n",
    "    2.\tAnalyze how good/bad categories impact demand.\n",
    "        a.\tHow does the time to completion a request (completed date – created date) vary between good and bad categories?\n",
    "        b.\tHow has the change across time between created tickets compared between good and bad categories?\n",
    "    3.\tCheck if any other variables help explain our conclusions (priority, skill team, outcome, reached via)\n"
   ]
  },
  {
   "cell_type": "markdown",
   "id": "0872c7e2",
   "metadata": {},
   "source": [
    "First, let's make sure all lists with scores look the same."
   ]
  },
  {
   "cell_type": "code",
   "execution_count": 50,
   "id": "5e033c29",
   "metadata": {},
   "outputs": [
    {
     "data": {
      "text/plain": [
       "[('Data Privacy', 161.83, 0.525),\n",
       " ('Cyber Consultation', 71.33, 0.231),\n",
       " ('Cyber Security Breach', 30.86, 0.1),\n",
       " ('Security Gap', 9.53, 0.031),\n",
       " ('Data Leak', 34.78, 0.113)]"
      ]
     },
     "execution_count": 50,
     "metadata": {},
     "output_type": "execute_result"
    }
   ],
   "source": [
    "state_scores # list with metric for each category (state score) - the higher the better"
   ]
  },
  {
   "cell_type": "code",
   "execution_count": 51,
   "id": "b6ba523b",
   "metadata": {},
   "outputs": [
    {
     "data": {
      "text/plain": [
       "[('Data Privacy', 4.08, 0.201),\n",
       " ('Cyber Consultation', 3.92, 0.193),\n",
       " ('Cyber Security Breach', 4.16, 0.205),\n",
       " ('Security Gap', 4.04, 0.199),\n",
       " ('Data Leak', 4.09, 0.202)]"
      ]
     },
     "execution_count": 51,
     "metadata": {},
     "output_type": "execute_result"
    }
   ],
   "source": [
    "custsat_scores # list with metric for each category (customer satisfaction score) - the higher the better"
   ]
  },
  {
   "cell_type": "code",
   "execution_count": 52,
   "id": "d590e2ee",
   "metadata": {},
   "outputs": [
    {
     "data": {
      "text/plain": [
       "[('Data Privacy', 0.77, 0.252),\n",
       " ('Cyber Consultation', 0.67, 0.22),\n",
       " ('Cyber Security Breach', 0.65, 0.214),\n",
       " ('Security Gap', 0.55, 0.18),\n",
       " ('Data Leak', 0.41, 0.135)]"
      ]
     },
     "execution_count": 52,
     "metadata": {},
     "output_type": "execute_result"
    }
   ],
   "source": [
    "time_scores # list with metric for each category (time for completion score) - the higher the better"
   ]
  },
  {
   "cell_type": "code",
   "execution_count": 53,
   "id": "f4254fca",
   "metadata": {},
   "outputs": [
    {
     "data": {
      "text/plain": [
       "[('Data Privacy', 0.75, 0.275),\n",
       " ('Cyber Consultation', 0.0196, 0.007),\n",
       " ('Cyber Security Breach', -0.0, -0.0),\n",
       " ('Security Gap', 1.6667, 0.611),\n",
       " ('Data Leak', 0.2917, 0.107)]"
      ]
     },
     "execution_count": 53,
     "metadata": {},
     "output_type": "execute_result"
    }
   ],
   "source": [
    "rate_scores # list with metric for each category (rate of change score) - the higher the better"
   ]
  },
  {
   "cell_type": "markdown",
   "id": "6173be64",
   "metadata": {},
   "source": [
    "Now, let's calculate the final metric for each category by adding up all scores."
   ]
  },
  {
   "cell_type": "code",
   "execution_count": 63,
   "id": "8a68a0d4",
   "metadata": {},
   "outputs": [
    {
     "name": "stdout",
     "output_type": "stream",
     "text": [
      "Data Privacy looks good\n",
      "Cyber Consultation looks good\n",
      "Cyber Security Breach looks good\n",
      "Security Gap looks good\n",
      "Data Leak looks good\n"
     ]
    },
    {
     "data": {
      "text/plain": [
       "[('Data Privacy', 1.25),\n",
       " ('Cyber Consultation', 0.65),\n",
       " ('Cyber Security Breach', 0.52),\n",
       " ('Security Gap', 1.02),\n",
       " ('Data Leak', 0.56)]"
      ]
     },
     "execution_count": 63,
     "metadata": {},
     "output_type": "execute_result"
    }
   ],
   "source": [
    "# Sum up final scores and store as final metric - approach which uses the same weight for each metric\n",
    "final_scores = [] # list to store final metric\n",
    "for i in range(len(cat_names)):\n",
    "    # make sure all categories belong to the same indexes in lists used to store scores\n",
    "    if state_scores[i][0] == custsat_scores[i][0] == time_scores[i][0] == rate_scores[i][0]:\n",
    "        print(state_scores[i][0], 'looks good')\n",
    "    else:\n",
    "        print('Categories not equivalent, review analysis')\n",
    "        break\n",
    "    # if they belong, then add a tuple with the category name and their final metric score to the all_scores list\n",
    "    cat = state_scores[i][0]\n",
    "    final_score = state_scores[i][2] + custsat_scores[i][2] + time_scores[i][2] + rate_scores[i][2]\n",
    "    final_scores.append((cat, round(final_score,2)))\n",
    "final_scores"
   ]
  },
  {
   "cell_type": "code",
   "execution_count": 67,
   "id": "75c43773",
   "metadata": {},
   "outputs": [
    {
     "data": {
      "text/plain": [
       "[('Data Privacy', 1.25),\n",
       " ('Security Gap', 1.02),\n",
       " ('Cyber Consultation', 0.65),\n",
       " ('Data Leak', 0.56),\n",
       " ('Cyber Security Breach', 0.52)]"
      ]
     },
     "execution_count": 67,
     "metadata": {},
     "output_type": "execute_result"
    }
   ],
   "source": [
    "# Sort values in final scores list to rank categories based on their final score\n",
    "final_scores = sorted(final_scores,key=itemgetter(1), reverse=True) # itemgetter tells to sort by the item in each tuple of index 1\n",
    "final_scores"
   ]
  },
  {
   "cell_type": "markdown",
   "id": "b874d2bc",
   "metadata": {},
   "source": [
    "## Final Ranking\n",
    "\n",
    "Based on:\n",
    "1. state importance\n",
    "2. customer satisfaction\n",
    "3. time for completion\n",
    "4. rate of change across time"
   ]
  },
  {
   "cell_type": "code",
   "execution_count": 68,
   "id": "f9f8a182",
   "metadata": {},
   "outputs": [
    {
     "name": "stdout",
     "output_type": "stream",
     "text": [
      "FINAL RANKINGS\n",
      "--------------------------------\n",
      "Data Privacy : 1\n",
      "Security Gap : 2\n",
      "Cyber Consultation : 3\n",
      "Data Leak : 4\n",
      "Cyber Security Breach : 5\n"
     ]
    }
   ],
   "source": [
    "i = 1\n",
    "print('FINAL RANKINGS')\n",
    "print('--------------------------------')\n",
    "for cat_info in final_scores:\n",
    "    cat = cat_info[0]\n",
    "    final_rank = i\n",
    "    print(cat, ':', final_rank)\n",
    "    i += 1"
   ]
  },
  {
   "cell_type": "code",
   "execution_count": null,
   "id": "31213c13",
   "metadata": {},
   "outputs": [],
   "source": []
  }
 ],
 "metadata": {
  "kernelspec": {
   "display_name": "Python 3 (ipykernel)",
   "language": "python",
   "name": "python3"
  },
  "language_info": {
   "codemirror_mode": {
    "name": "ipython",
    "version": 3
   },
   "file_extension": ".py",
   "mimetype": "text/x-python",
   "name": "python",
   "nbconvert_exporter": "python",
   "pygments_lexer": "ipython3",
   "version": "3.9.7"
  }
 },
 "nbformat": 4,
 "nbformat_minor": 5
}
