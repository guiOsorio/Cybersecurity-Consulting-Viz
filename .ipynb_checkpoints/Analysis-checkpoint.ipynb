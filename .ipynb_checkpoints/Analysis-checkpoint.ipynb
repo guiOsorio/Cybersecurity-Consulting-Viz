{
 "cells": [
  {
   "cell_type": "code",
   "execution_count": 1,
   "id": "d8c613cc",
   "metadata": {},
   "outputs": [],
   "source": [
    "import pandas as pd\n",
    "import numpy as np\n",
    "import matplotlib.pyplot as plt\n",
    "import seaborn as sns"
   ]
  },
  {
   "cell_type": "code",
   "execution_count": 2,
   "id": "0404778f",
   "metadata": {},
   "outputs": [
    {
     "data": {
      "text/html": [
       "<div>\n",
       "<style scoped>\n",
       "    .dataframe tbody tr th:only-of-type {\n",
       "        vertical-align: middle;\n",
       "    }\n",
       "\n",
       "    .dataframe tbody tr th {\n",
       "        vertical-align: top;\n",
       "    }\n",
       "\n",
       "    .dataframe thead th {\n",
       "        text-align: right;\n",
       "    }\n",
       "</style>\n",
       "<table border=\"1\" class=\"dataframe\">\n",
       "  <thead>\n",
       "    <tr style=\"text-align: right;\">\n",
       "      <th></th>\n",
       "      <th>Ticket No</th>\n",
       "      <th>Priority</th>\n",
       "      <th>State</th>\n",
       "      <th>Category</th>\n",
       "      <th>Sub Category</th>\n",
       "      <th>Skill Team</th>\n",
       "      <th>Hosting</th>\n",
       "      <th>Create Date</th>\n",
       "      <th>Picked Date</th>\n",
       "      <th>Completed Date</th>\n",
       "      <th>Assignee</th>\n",
       "      <th>Customer Rating</th>\n",
       "      <th>Outcome</th>\n",
       "      <th>Escalated</th>\n",
       "      <th>Reached via</th>\n",
       "    </tr>\n",
       "  </thead>\n",
       "  <tbody>\n",
       "    <tr>\n",
       "      <th>0</th>\n",
       "      <td>T01</td>\n",
       "      <td>High</td>\n",
       "      <td>California</td>\n",
       "      <td>Data Privacy</td>\n",
       "      <td>GDPR</td>\n",
       "      <td>IT</td>\n",
       "      <td>Vendor Cloud</td>\n",
       "      <td>2021-01-03 12:46:36</td>\n",
       "      <td>2021-01-03 12:48:31</td>\n",
       "      <td>2021-06-03 16:35:26</td>\n",
       "      <td>Bob</td>\n",
       "      <td>Excellent (5)</td>\n",
       "      <td>Advised for a risk assessment</td>\n",
       "      <td>NaN</td>\n",
       "      <td>Personal Call</td>\n",
       "    </tr>\n",
       "    <tr>\n",
       "      <th>1</th>\n",
       "      <td>T02</td>\n",
       "      <td>Low</td>\n",
       "      <td>Minnesota</td>\n",
       "      <td>Cyber Consultation</td>\n",
       "      <td>BCP/DR</td>\n",
       "      <td>IT</td>\n",
       "      <td>On Prem Server</td>\n",
       "      <td>2021-01-04 09:52:44</td>\n",
       "      <td>2021-01-04 10:12:46</td>\n",
       "      <td>2021-01-17 09:44:31</td>\n",
       "      <td>Bob</td>\n",
       "      <td>Excellent (5)</td>\n",
       "      <td>Recommended Threat Assessment</td>\n",
       "      <td>NaN</td>\n",
       "      <td>Ticket Portal</td>\n",
       "    </tr>\n",
       "    <tr>\n",
       "      <th>2</th>\n",
       "      <td>T03</td>\n",
       "      <td>High</td>\n",
       "      <td>Maryland</td>\n",
       "      <td>Cyber Security Breach</td>\n",
       "      <td>Firewall</td>\n",
       "      <td>HR</td>\n",
       "      <td>Vendor Cloud</td>\n",
       "      <td>2021-01-04 10:11:07</td>\n",
       "      <td>2021-01-04 10:11:31</td>\n",
       "      <td>2021-01-04 11:43:40</td>\n",
       "      <td>Allan</td>\n",
       "      <td>Excellent (5)</td>\n",
       "      <td>Recommended Threat Assessment</td>\n",
       "      <td>NaN</td>\n",
       "      <td>Personal Call</td>\n",
       "    </tr>\n",
       "    <tr>\n",
       "      <th>3</th>\n",
       "      <td>T04</td>\n",
       "      <td>Low</td>\n",
       "      <td>New York</td>\n",
       "      <td>Security Gap</td>\n",
       "      <td>Password non-expiry</td>\n",
       "      <td>IT</td>\n",
       "      <td>On Prem Server</td>\n",
       "      <td>2021-01-04 10:55:13</td>\n",
       "      <td>2021-01-04 10:55:31</td>\n",
       "      <td>2021-01-18 11:06:54</td>\n",
       "      <td>Allan</td>\n",
       "      <td>Excellent (5)</td>\n",
       "      <td>Advised for a risk assessment</td>\n",
       "      <td>NaN</td>\n",
       "      <td>Ticket Portal</td>\n",
       "    </tr>\n",
       "    <tr>\n",
       "      <th>4</th>\n",
       "      <td>T05</td>\n",
       "      <td>High</td>\n",
       "      <td>California</td>\n",
       "      <td>Cyber Security Breach</td>\n",
       "      <td>Malware Attack</td>\n",
       "      <td>Legal</td>\n",
       "      <td>On Prem Cloud</td>\n",
       "      <td>2021-01-04 21:58:33</td>\n",
       "      <td>2021-01-04 22:13:03</td>\n",
       "      <td>2021-01-11 12:20:42</td>\n",
       "      <td>Charlotte</td>\n",
       "      <td>Excellent (5)</td>\n",
       "      <td>Recommended Threat Assessment</td>\n",
       "      <td>NaN</td>\n",
       "      <td>Ticket Portal</td>\n",
       "    </tr>\n",
       "  </tbody>\n",
       "</table>\n",
       "</div>"
      ],
      "text/plain": [
       "  Ticket No Priority       State               Category         Sub Category  \\\n",
       "0       T01     High  California           Data Privacy                 GDPR   \n",
       "1       T02      Low   Minnesota     Cyber Consultation               BCP/DR   \n",
       "2       T03     High    Maryland  Cyber Security Breach             Firewall   \n",
       "3       T04      Low    New York           Security Gap  Password non-expiry   \n",
       "4       T05     High  California  Cyber Security Breach       Malware Attack   \n",
       "\n",
       "  Skill Team         Hosting         Create Date         Picked Date  \\\n",
       "0         IT    Vendor Cloud 2021-01-03 12:46:36 2021-01-03 12:48:31   \n",
       "1         IT  On Prem Server 2021-01-04 09:52:44 2021-01-04 10:12:46   \n",
       "2         HR    Vendor Cloud 2021-01-04 10:11:07 2021-01-04 10:11:31   \n",
       "3         IT  On Prem Server 2021-01-04 10:55:13 2021-01-04 10:55:31   \n",
       "4      Legal   On Prem Cloud 2021-01-04 21:58:33 2021-01-04 22:13:03   \n",
       "\n",
       "        Completed Date   Assignee Customer Rating  \\\n",
       "0  2021-06-03 16:35:26        Bob   Excellent (5)   \n",
       "1  2021-01-17 09:44:31        Bob   Excellent (5)   \n",
       "2  2021-01-04 11:43:40      Allan   Excellent (5)   \n",
       "3  2021-01-18 11:06:54      Allan   Excellent (5)   \n",
       "4  2021-01-11 12:20:42  Charlotte   Excellent (5)   \n",
       "\n",
       "                         Outcome Escalated    Reached via  \n",
       "0  Advised for a risk assessment       NaN  Personal Call  \n",
       "1  Recommended Threat Assessment       NaN  Ticket Portal  \n",
       "2  Recommended Threat Assessment       NaN  Personal Call  \n",
       "3  Advised for a risk assessment       NaN  Ticket Portal  \n",
       "4  Recommended Threat Assessment       NaN  Ticket Portal  "
      ]
     },
     "execution_count": 2,
     "metadata": {},
     "output_type": "execute_result"
    }
   ],
   "source": [
    "# Load data\n",
    "data = pd.read_excel('Ticket Details.xlsx')\n",
    "data.head()"
   ]
  },
  {
   "cell_type": "code",
   "execution_count": 3,
   "id": "272ab280",
   "metadata": {},
   "outputs": [
    {
     "data": {
      "text/html": [
       "<div>\n",
       "<style scoped>\n",
       "    .dataframe tbody tr th:only-of-type {\n",
       "        vertical-align: middle;\n",
       "    }\n",
       "\n",
       "    .dataframe tbody tr th {\n",
       "        vertical-align: top;\n",
       "    }\n",
       "\n",
       "    .dataframe thead th {\n",
       "        text-align: right;\n",
       "    }\n",
       "</style>\n",
       "<table border=\"1\" class=\"dataframe\">\n",
       "  <thead>\n",
       "    <tr style=\"text-align: right;\">\n",
       "      <th></th>\n",
       "      <th>Ticket No</th>\n",
       "      <th>Priority</th>\n",
       "      <th>State</th>\n",
       "      <th>Category</th>\n",
       "      <th>Skill Team</th>\n",
       "      <th>Create Date</th>\n",
       "      <th>Picked Date</th>\n",
       "      <th>Completed Date</th>\n",
       "      <th>Customer Rating</th>\n",
       "      <th>Outcome</th>\n",
       "      <th>Reached via</th>\n",
       "    </tr>\n",
       "  </thead>\n",
       "  <tbody>\n",
       "    <tr>\n",
       "      <th>0</th>\n",
       "      <td>T01</td>\n",
       "      <td>High</td>\n",
       "      <td>California</td>\n",
       "      <td>Data Privacy</td>\n",
       "      <td>IT</td>\n",
       "      <td>2021-01-03 12:46:36</td>\n",
       "      <td>2021-01-03 12:48:31</td>\n",
       "      <td>2021-06-03 16:35:26</td>\n",
       "      <td>Excellent (5)</td>\n",
       "      <td>Advised for a risk assessment</td>\n",
       "      <td>Personal Call</td>\n",
       "    </tr>\n",
       "    <tr>\n",
       "      <th>1</th>\n",
       "      <td>T02</td>\n",
       "      <td>Low</td>\n",
       "      <td>Minnesota</td>\n",
       "      <td>Cyber Consultation</td>\n",
       "      <td>IT</td>\n",
       "      <td>2021-01-04 09:52:44</td>\n",
       "      <td>2021-01-04 10:12:46</td>\n",
       "      <td>2021-01-17 09:44:31</td>\n",
       "      <td>Excellent (5)</td>\n",
       "      <td>Recommended Threat Assessment</td>\n",
       "      <td>Ticket Portal</td>\n",
       "    </tr>\n",
       "    <tr>\n",
       "      <th>2</th>\n",
       "      <td>T03</td>\n",
       "      <td>High</td>\n",
       "      <td>Maryland</td>\n",
       "      <td>Cyber Security Breach</td>\n",
       "      <td>HR</td>\n",
       "      <td>2021-01-04 10:11:07</td>\n",
       "      <td>2021-01-04 10:11:31</td>\n",
       "      <td>2021-01-04 11:43:40</td>\n",
       "      <td>Excellent (5)</td>\n",
       "      <td>Recommended Threat Assessment</td>\n",
       "      <td>Personal Call</td>\n",
       "    </tr>\n",
       "    <tr>\n",
       "      <th>3</th>\n",
       "      <td>T04</td>\n",
       "      <td>Low</td>\n",
       "      <td>New York</td>\n",
       "      <td>Security Gap</td>\n",
       "      <td>IT</td>\n",
       "      <td>2021-01-04 10:55:13</td>\n",
       "      <td>2021-01-04 10:55:31</td>\n",
       "      <td>2021-01-18 11:06:54</td>\n",
       "      <td>Excellent (5)</td>\n",
       "      <td>Advised for a risk assessment</td>\n",
       "      <td>Ticket Portal</td>\n",
       "    </tr>\n",
       "    <tr>\n",
       "      <th>4</th>\n",
       "      <td>T05</td>\n",
       "      <td>High</td>\n",
       "      <td>California</td>\n",
       "      <td>Cyber Security Breach</td>\n",
       "      <td>Legal</td>\n",
       "      <td>2021-01-04 21:58:33</td>\n",
       "      <td>2021-01-04 22:13:03</td>\n",
       "      <td>2021-01-11 12:20:42</td>\n",
       "      <td>Excellent (5)</td>\n",
       "      <td>Recommended Threat Assessment</td>\n",
       "      <td>Ticket Portal</td>\n",
       "    </tr>\n",
       "  </tbody>\n",
       "</table>\n",
       "</div>"
      ],
      "text/plain": [
       "  Ticket No Priority       State               Category Skill Team  \\\n",
       "0       T01     High  California           Data Privacy         IT   \n",
       "1       T02      Low   Minnesota     Cyber Consultation         IT   \n",
       "2       T03     High    Maryland  Cyber Security Breach         HR   \n",
       "3       T04      Low    New York           Security Gap         IT   \n",
       "4       T05     High  California  Cyber Security Breach      Legal   \n",
       "\n",
       "          Create Date         Picked Date       Completed Date  \\\n",
       "0 2021-01-03 12:46:36 2021-01-03 12:48:31  2021-06-03 16:35:26   \n",
       "1 2021-01-04 09:52:44 2021-01-04 10:12:46  2021-01-17 09:44:31   \n",
       "2 2021-01-04 10:11:07 2021-01-04 10:11:31  2021-01-04 11:43:40   \n",
       "3 2021-01-04 10:55:13 2021-01-04 10:55:31  2021-01-18 11:06:54   \n",
       "4 2021-01-04 21:58:33 2021-01-04 22:13:03  2021-01-11 12:20:42   \n",
       "\n",
       "  Customer Rating                        Outcome    Reached via  \n",
       "0   Excellent (5)  Advised for a risk assessment  Personal Call  \n",
       "1   Excellent (5)  Recommended Threat Assessment  Ticket Portal  \n",
       "2   Excellent (5)  Recommended Threat Assessment  Personal Call  \n",
       "3   Excellent (5)  Advised for a risk assessment  Ticket Portal  \n",
       "4   Excellent (5)  Recommended Threat Assessment  Ticket Portal  "
      ]
     },
     "execution_count": 3,
     "metadata": {},
     "output_type": "execute_result"
    }
   ],
   "source": [
    "# Remove unwanted columns\n",
    "data = data.drop(['Sub Category', 'Hosting', 'Assignee', 'Escalated'], axis=1)\n",
    "data.head()"
   ]
  },
  {
   "cell_type": "code",
   "execution_count": 4,
   "id": "b4c76c93",
   "metadata": {},
   "outputs": [
    {
     "data": {
      "text/plain": [
       "Ticket No          0\n",
       "Priority           0\n",
       "State              0\n",
       "Category           0\n",
       "Skill Team         0\n",
       "Create Date        0\n",
       "Picked Date        0\n",
       "Completed Date     0\n",
       "Customer Rating    0\n",
       "Outcome            0\n",
       "Reached via        0\n",
       "dtype: int64"
      ]
     },
     "execution_count": 4,
     "metadata": {},
     "output_type": "execute_result"
    }
   ],
   "source": [
    "# Look for missing values\n",
    "data.isna().sum()\n",
    "# no NA values in our dataset. No action needs to be taken"
   ]
  },
  {
   "cell_type": "markdown",
   "id": "ee2074a5",
   "metadata": {},
   "source": [
    "### 'State' Variable Exploratory Analysis"
   ]
  },
  {
   "cell_type": "code",
   "execution_count": 5,
   "id": "9df4d00a",
   "metadata": {},
   "outputs": [
    {
     "name": "stdout",
     "output_type": "stream",
     "text": [
      "STATES REPRESENTED\n",
      "['California' 'Minnesota' 'Maryland' 'New York' 'Texas' 'Utah'\n",
      " 'New Jersey' 'Iowa' 'Florida' 'Michigan' 'Georgia' 'Louisiana'\n",
      " 'Connecticut' 'Wisconsin' 'Oregon' 'Virginia' 'Pennsylvania'\n",
      " 'Rhode Island' 'Ohio' 'Arizona' 'Massachusetts' 'New Mexico' 'Nevada'\n",
      " 'Illinois' 'North Carolina' 'Missouri' 'Tennessee' 'Kansas' 'Colorado'\n",
      " 'Indiana' 'Delaware' 'District of Columbia' 'Mississippi' 'Alabama'\n",
      " 'Washington' 'Kentucky' 'South Carolina' 'Nebraska' 'Hawaii'\n",
      " 'New Hampshire' 'Idaho' 'West Virginia' 'Maine' 'Oklahoma' 'Montana']\n",
      "-----------------------------\n",
      "# OF STATES REPRESENTED: 45\n"
     ]
    }
   ],
   "source": [
    "# Check values in the ‘State’ column and modify it if there are too many similar values\n",
    "print('STATES REPRESENTED')\n",
    "print(data['State'].unique())\n",
    "print('-----------------------------')\n",
    "print('# OF STATES REPRESENTED:', len(data['State'].unique()))"
   ]
  },
  {
   "cell_type": "code",
   "execution_count": 6,
   "id": "00030d33",
   "metadata": {},
   "outputs": [
    {
     "data": {
      "text/plain": [
       "(array([242.,  93.,  50.,  64.,  44.,  59.,  33.,  30.,   6.,   6.]),\n",
       " array([ 0. ,  4.4,  8.8, 13.2, 17.6, 22. , 26.4, 30.8, 35.2, 39.6, 44. ]),\n",
       " <BarContainer object of 10 artists>)"
      ]
     },
     "execution_count": 6,
     "metadata": {},
     "output_type": "execute_result"
    },
    {
     "data": {
      "image/png": "[encoded data removed]",
      "text/plain": [
       "<Figure size 432x288 with 1 Axes>"
      ]
     },
     "metadata": {
      "needs_background": "light"
     },
     "output_type": "display_data"
    }
   ],
   "source": [
    "# Visualize distribution\n",
    "plt.hist(data['State'])"
   ]
  },
  {
   "cell_type": "markdown",
   "id": "8d6e3014",
   "metadata": {},
   "source": [
    "It looks like one state represents a significant part of our data, while a few states have minimal significance. Let's explore this further."
   ]
  },
  {
   "cell_type": "code",
   "execution_count": 7,
   "id": "6ece6380",
   "metadata": {},
   "outputs": [
    {
     "data": {
      "text/plain": [
       "California              131\n",
       "New York                 56\n",
       "Florida                  47\n",
       "Texas                    38\n",
       "Virginia                 38\n",
       "Illinois                 25\n",
       "Utah                     21\n",
       "Georgia                  19\n",
       "New Jersey               19\n",
       "Colorado                 18\n",
       "Massachusetts            15\n",
       "Arizona                  15\n",
       "Pennsylvania             14\n",
       "North Carolina           14\n",
       "Ohio                     13\n",
       "Michigan                 12\n",
       "Washington               11\n",
       "Oregon                   10\n",
       "District of Columbia      9\n",
       "Maryland                  9\n",
       "Wisconsin                 8\n",
       "Minnesota                 8\n",
       "Missouri                  8\n",
       "Tennessee                 8\n",
       "Indiana                   7\n",
       "Connecticut               6\n",
       "Iowa                      6\n",
       "Alabama                   5\n",
       "Louisiana                 5\n",
       "Kansas                    5\n",
       "Nevada                    4\n",
       "Delaware                  3\n",
       "Mississippi               3\n",
       "South Carolina            3\n",
       "Rhode Island              2\n",
       "Kentucky                  2\n",
       "Oklahoma                  2\n",
       "New Mexico                1\n",
       "Nebraska                  1\n",
       "Hawaii                    1\n",
       "New Hampshire             1\n",
       "Idaho                     1\n",
       "West Virginia             1\n",
       "Maine                     1\n",
       "Montana                   1\n",
       "Name: State, dtype: int64"
      ]
     },
     "execution_count": 7,
     "metadata": {},
     "output_type": "execute_result"
    }
   ],
   "source": [
    "# Check occurences per state\n",
    "state_counts = data['State'].value_counts()\n",
    "state_counts"
   ]
  },
  {
   "cell_type": "markdown",
   "id": "11959566",
   "metadata": {},
   "source": [
    "Most states have less than 10 occurences. Let's keep the ones with more than that in a variable."
   ]
  },
  {
   "cell_type": "code",
   "execution_count": 8,
   "id": "bd180e29",
   "metadata": {},
   "outputs": [
    {
     "data": {
      "text/plain": [
       "['California',\n",
       " 'New York',\n",
       " 'Florida',\n",
       " 'Texas',\n",
       " 'Virginia',\n",
       " 'Illinois',\n",
       " 'Utah',\n",
       " 'Georgia',\n",
       " 'New Jersey',\n",
       " 'Colorado',\n",
       " 'Massachusetts',\n",
       " 'Arizona',\n",
       " 'Pennsylvania',\n",
       " 'North Carolina',\n",
       " 'Ohio',\n",
       " 'Michigan',\n",
       " 'Washington']"
      ]
     },
     "execution_count": 8,
     "metadata": {},
     "output_type": "execute_result"
    }
   ],
   "source": [
    "relevant_states = []\n",
    "for state in state_counts.index:\n",
    "    if state_counts[state] > 10:\n",
    "        relevant_states.append(state)\n",
    "relevant_states # states with more than 10 total tickets"
   ]
  },
  {
   "cell_type": "markdown",
   "id": "7acd9a39",
   "metadata": {},
   "source": [
    "Now, let's compare the amount of tickets which come from California with the tickets from non-relevant states."
   ]
  },
  {
   "cell_type": "code",
   "execution_count": 9,
   "id": "5957c3a4",
   "metadata": {},
   "outputs": [
    {
     "name": "stdout",
     "output_type": "stream",
     "text": [
      "Percentage of tickets which come from California: 20.89 %\n"
     ]
    }
   ],
   "source": [
    "# Percent of total tickets that come from California\n",
    "perc_cal = round(state_counts['California']/len(data['State']), 4) * 100\n",
    "print('Percentage of tickets which come from California:', perc_cal, '%')"
   ]
  },
  {
   "cell_type": "code",
   "execution_count": 10,
   "id": "b745d2ca",
   "metadata": {},
   "outputs": [
    {
     "name": "stdout",
     "output_type": "stream",
     "text": [
      "# of non-relevant states: 28\n",
      "# of tickets from non-relevant states: 121\n",
      "Percentage of tickets which come from non-relevant states: 19.3 %\n"
     ]
    }
   ],
   "source": [
    "# Percent of total tickets which come from non relevant states\n",
    "total_nonrelevantstates = 0\n",
    "nonrelevantstate_count = 0\n",
    "for state in state_counts.index:\n",
    "    if state not in relevant_states:\n",
    "        total_nonrelevantstates += state_counts[state]\n",
    "        nonrelevantstate_count += 1\n",
    "print('# of non-relevant states:', nonrelevantstate_count)\n",
    "print('# of tickets from non-relevant states:', total_nonrelevantstates)\n",
    "\n",
    "perc_nonrelevantstates = round(total_nonrelevantstates/len(data['State']), 4) * 100\n",
    "print('Percentage of tickets which come from non-relevant states:', perc_nonrelevantstates, '%')"
   ]
  },
  {
   "cell_type": "markdown",
   "id": "b3010d9a",
   "metadata": {},
   "source": [
    "We can observe that the number tickets coming from California (20.89%), are around the same as the number of tickets coming from states we labeled as non-relevant (19.3%)."
   ]
  },
  {
   "cell_type": "markdown",
   "id": "16b0bd30",
   "metadata": {},
   "source": [
    "### 'Category' Variable Exploratory Analysis"
   ]
  },
  {
   "cell_type": "code",
   "execution_count": 11,
   "id": "f6183fc2",
   "metadata": {},
   "outputs": [
    {
     "name": "stdout",
     "output_type": "stream",
     "text": [
      "CATEGORIES REPRESENTED\n",
      "['Data Privacy' 'Cyber Consultation' 'Cyber Security Breach'\n",
      " 'Security Gap' 'Data Leak']\n",
      "-----------------------------\n",
      "# OF CATEGORIES REPRESENTED: 5\n"
     ]
    }
   ],
   "source": [
    "# Check values in the ‘State’ column and modify it if there are too many similar values\n",
    "print('CATEGORIES REPRESENTED')\n",
    "print(data['Category'].unique())\n",
    "print('-----------------------------')\n",
    "print('# OF CATEGORIES REPRESENTED:', len(data['Category'].unique()))"
   ]
  },
  {
   "cell_type": "code",
   "execution_count": 12,
   "id": "cac5755d",
   "metadata": {},
   "outputs": [
    {
     "name": "stderr",
     "output_type": "stream",
     "text": [
      "C:\\Users\\Guilherme\\anaconda3\\lib\\site-packages\\seaborn\\_decorators.py:36: FutureWarning: Pass the following variable as a keyword arg: x. From version 0.12, the only valid positional argument will be `data`, and passing other arguments without an explicit keyword will result in an error or misinterpretation.\n",
      "  warnings.warn(\n"
     ]
    },
    {
     "data": {
      "text/plain": [
       "<AxesSubplot:xlabel='Category', ylabel='count'>"
      ]
     },
     "execution_count": 12,
     "metadata": {},
     "output_type": "execute_result"
    },
    {
     "data": {
      "image/png": "[encoded data removed]",
      "text/plain": [
       "<Figure size 864x360 with 1 Axes>"
      ]
     },
     "metadata": {
      "needs_background": "light"
     },
     "output_type": "display_data"
    }
   ],
   "source": [
    "# Visualize distribution\n",
    "plt.rcParams[\"figure.figsize\"] = (12, 5)\n",
    "sns.countplot(data['Category'], palette = 'rocket', order = data['Category'].value_counts().index)"
   ]
  },
  {
   "cell_type": "markdown",
   "id": "933545e4",
   "metadata": {},
   "source": [
    "As can be seen above, data privacy is the most frequent category in our dataset, while security gap is the least frequent."
   ]
  },
  {
   "cell_type": "markdown",
   "id": "3847e0c5",
   "metadata": {},
   "source": [
    "### 'Customer Rating' Variable Exploratory Analysis"
   ]
  },
  {
   "cell_type": "code",
   "execution_count": 13,
   "id": "10e308b7",
   "metadata": {},
   "outputs": [],
   "source": [
    "# Transform ‘Customer Rating’ variable into ordinal numerical type (2 - ‘Unsatisfactory (2)’; 3 - ‘Satisfactory (3)’; 4 – ‘Good (4)’; 5 – ‘Excellent (5)’\n",
    "def transform_crat(val):\n",
    "    if val == 'Unsatisfactory (2)': \n",
    "        return 2\n",
    "    elif val == 'Satisfactory (3)': \n",
    "        return 3\n",
    "    elif val == 'Good (4)': \n",
    "        return 4\n",
    "    elif val == 'Excellent (5)': \n",
    "        return 5\n",
    "data['Customer Rating (#)'] = data.apply(lambda row: transform_crat(row['Customer Rating']), axis=1)\n"
   ]
  },
  {
   "cell_type": "code",
   "execution_count": 14,
   "id": "eb73191e",
   "metadata": {},
   "outputs": [
    {
     "name": "stdout",
     "output_type": "stream",
     "text": [
      "  Ticket No Priority       State               Category Skill Team  \\\n",
      "0       T01     High  California           Data Privacy         IT   \n",
      "1       T02      Low   Minnesota     Cyber Consultation         IT   \n",
      "2       T03     High    Maryland  Cyber Security Breach         HR   \n",
      "3       T04      Low    New York           Security Gap         IT   \n",
      "4       T05     High  California  Cyber Security Breach      Legal   \n",
      "\n",
      "          Create Date         Picked Date       Completed Date  \\\n",
      "0 2021-01-03 12:46:36 2021-01-03 12:48:31  2021-06-03 16:35:26   \n",
      "1 2021-01-04 09:52:44 2021-01-04 10:12:46  2021-01-17 09:44:31   \n",
      "2 2021-01-04 10:11:07 2021-01-04 10:11:31  2021-01-04 11:43:40   \n",
      "3 2021-01-04 10:55:13 2021-01-04 10:55:31  2021-01-18 11:06:54   \n",
      "4 2021-01-04 21:58:33 2021-01-04 22:13:03  2021-01-11 12:20:42   \n",
      "\n",
      "  Customer Rating                        Outcome    Reached via  \\\n",
      "0   Excellent (5)  Advised for a risk assessment  Personal Call   \n",
      "1   Excellent (5)  Recommended Threat Assessment  Ticket Portal   \n",
      "2   Excellent (5)  Recommended Threat Assessment  Personal Call   \n",
      "3   Excellent (5)  Advised for a risk assessment  Ticket Portal   \n",
      "4   Excellent (5)  Recommended Threat Assessment  Ticket Portal   \n",
      "\n",
      "   Customer Rating (#)  \n",
      "0                    5  \n",
      "1                    5  \n",
      "2                    5  \n",
      "3                    5  \n",
      "4                    5  \n",
      "    Ticket No Priority       State               Category Skill Team  \\\n",
      "622       T95     High    Colorado           Data Privacy         HR   \n",
      "623       T96     High  California  Cyber Security Breach         IT   \n",
      "624       T97     High    Colorado           Data Privacy         HR   \n",
      "625       T98     High    Virginia     Cyber Consultation         IT   \n",
      "626       T99     High        Utah           Data Privacy    Finance   \n",
      "\n",
      "            Create Date         Picked Date       Completed Date  \\\n",
      "622 2021-03-12 11:55:31 2021-03-12 11:58:38  2021-03-17 09:47:17   \n",
      "623 2021-03-12 11:55:31 2021-03-12 11:58:38  2021-03-17 09:47:17   \n",
      "624 2021-03-12 11:55:31 2021-03-12 11:58:38  2021-03-17 09:47:17   \n",
      "625 2021-03-12 17:45:32 2021-03-12 17:46:30  2021-03-13 11:45:18   \n",
      "626 2021-03-13 14:20:06 2021-03-13 14:28:47  2021-03-17 10:43:52   \n",
      "\n",
      "    Customer Rating                        Outcome    Reached via  \\\n",
      "622   Excellent (5)                       Resolved  Ticket Portal   \n",
      "623   Excellent (5)                       Resolved  Personal Call   \n",
      "624   Excellent (5)                       Resolved           Mail   \n",
      "625        Good (4)  Advised for a risk assessment  Ticket Portal   \n",
      "626   Excellent (5)                       Resolved  Ticket Portal   \n",
      "\n",
      "     Customer Rating (#)  \n",
      "622                    5  \n",
      "623                    5  \n",
      "624                    5  \n",
      "625                    4  \n",
      "626                    5  \n"
     ]
    }
   ],
   "source": [
    "# Check if all values were converted correctly\n",
    "print(data.head())\n",
    "print(data.tail())\n",
    "# looks good"
   ]
  },
  {
   "cell_type": "code",
   "execution_count": 15,
   "id": "8a5ad801",
   "metadata": {},
   "outputs": [
    {
     "data": {
      "text/html": [
       "<div>\n",
       "<style scoped>\n",
       "    .dataframe tbody tr th:only-of-type {\n",
       "        vertical-align: middle;\n",
       "    }\n",
       "\n",
       "    .dataframe tbody tr th {\n",
       "        vertical-align: top;\n",
       "    }\n",
       "\n",
       "    .dataframe thead th {\n",
       "        text-align: right;\n",
       "    }\n",
       "</style>\n",
       "<table border=\"1\" class=\"dataframe\">\n",
       "  <thead>\n",
       "    <tr style=\"text-align: right;\">\n",
       "      <th></th>\n",
       "      <th>Ticket No</th>\n",
       "      <th>Priority</th>\n",
       "      <th>State</th>\n",
       "      <th>Category</th>\n",
       "      <th>Skill Team</th>\n",
       "      <th>Create Date</th>\n",
       "      <th>Picked Date</th>\n",
       "      <th>Completed Date</th>\n",
       "      <th>Outcome</th>\n",
       "      <th>Reached via</th>\n",
       "      <th>Customer Rating (#)</th>\n",
       "    </tr>\n",
       "  </thead>\n",
       "  <tbody>\n",
       "    <tr>\n",
       "      <th>0</th>\n",
       "      <td>T01</td>\n",
       "      <td>High</td>\n",
       "      <td>California</td>\n",
       "      <td>Data Privacy</td>\n",
       "      <td>IT</td>\n",
       "      <td>2021-01-03 12:46:36</td>\n",
       "      <td>2021-01-03 12:48:31</td>\n",
       "      <td>2021-06-03 16:35:26</td>\n",
       "      <td>Advised for a risk assessment</td>\n",
       "      <td>Personal Call</td>\n",
       "      <td>5</td>\n",
       "    </tr>\n",
       "    <tr>\n",
       "      <th>1</th>\n",
       "      <td>T02</td>\n",
       "      <td>Low</td>\n",
       "      <td>Minnesota</td>\n",
       "      <td>Cyber Consultation</td>\n",
       "      <td>IT</td>\n",
       "      <td>2021-01-04 09:52:44</td>\n",
       "      <td>2021-01-04 10:12:46</td>\n",
       "      <td>2021-01-17 09:44:31</td>\n",
       "      <td>Recommended Threat Assessment</td>\n",
       "      <td>Ticket Portal</td>\n",
       "      <td>5</td>\n",
       "    </tr>\n",
       "    <tr>\n",
       "      <th>2</th>\n",
       "      <td>T03</td>\n",
       "      <td>High</td>\n",
       "      <td>Maryland</td>\n",
       "      <td>Cyber Security Breach</td>\n",
       "      <td>HR</td>\n",
       "      <td>2021-01-04 10:11:07</td>\n",
       "      <td>2021-01-04 10:11:31</td>\n",
       "      <td>2021-01-04 11:43:40</td>\n",
       "      <td>Recommended Threat Assessment</td>\n",
       "      <td>Personal Call</td>\n",
       "      <td>5</td>\n",
       "    </tr>\n",
       "    <tr>\n",
       "      <th>3</th>\n",
       "      <td>T04</td>\n",
       "      <td>Low</td>\n",
       "      <td>New York</td>\n",
       "      <td>Security Gap</td>\n",
       "      <td>IT</td>\n",
       "      <td>2021-01-04 10:55:13</td>\n",
       "      <td>2021-01-04 10:55:31</td>\n",
       "      <td>2021-01-18 11:06:54</td>\n",
       "      <td>Advised for a risk assessment</td>\n",
       "      <td>Ticket Portal</td>\n",
       "      <td>5</td>\n",
       "    </tr>\n",
       "    <tr>\n",
       "      <th>4</th>\n",
       "      <td>T05</td>\n",
       "      <td>High</td>\n",
       "      <td>California</td>\n",
       "      <td>Cyber Security Breach</td>\n",
       "      <td>Legal</td>\n",
       "      <td>2021-01-04 21:58:33</td>\n",
       "      <td>2021-01-04 22:13:03</td>\n",
       "      <td>2021-01-11 12:20:42</td>\n",
       "      <td>Recommended Threat Assessment</td>\n",
       "      <td>Ticket Portal</td>\n",
       "      <td>5</td>\n",
       "    </tr>\n",
       "  </tbody>\n",
       "</table>\n",
       "</div>"
      ],
      "text/plain": [
       "  Ticket No Priority       State               Category Skill Team  \\\n",
       "0       T01     High  California           Data Privacy         IT   \n",
       "1       T02      Low   Minnesota     Cyber Consultation         IT   \n",
       "2       T03     High    Maryland  Cyber Security Breach         HR   \n",
       "3       T04      Low    New York           Security Gap         IT   \n",
       "4       T05     High  California  Cyber Security Breach      Legal   \n",
       "\n",
       "          Create Date         Picked Date       Completed Date  \\\n",
       "0 2021-01-03 12:46:36 2021-01-03 12:48:31  2021-06-03 16:35:26   \n",
       "1 2021-01-04 09:52:44 2021-01-04 10:12:46  2021-01-17 09:44:31   \n",
       "2 2021-01-04 10:11:07 2021-01-04 10:11:31  2021-01-04 11:43:40   \n",
       "3 2021-01-04 10:55:13 2021-01-04 10:55:31  2021-01-18 11:06:54   \n",
       "4 2021-01-04 21:58:33 2021-01-04 22:13:03  2021-01-11 12:20:42   \n",
       "\n",
       "                         Outcome    Reached via  Customer Rating (#)  \n",
       "0  Advised for a risk assessment  Personal Call                    5  \n",
       "1  Recommended Threat Assessment  Ticket Portal                    5  \n",
       "2  Recommended Threat Assessment  Personal Call                    5  \n",
       "3  Advised for a risk assessment  Ticket Portal                    5  \n",
       "4  Recommended Threat Assessment  Ticket Portal                    5  "
      ]
     },
     "execution_count": 15,
     "metadata": {},
     "output_type": "execute_result"
    }
   ],
   "source": [
    "# Drop 'Customer Rating' column\n",
    "data = data.drop(['Customer Rating'], axis=1)\n",
    "data.head()"
   ]
  },
  {
   "cell_type": "code",
   "execution_count": 17,
   "id": "bde89167",
   "metadata": {},
   "outputs": [
    {
     "name": "stderr",
     "output_type": "stream",
     "text": [
      "C:\\Users\\Guilherme\\anaconda3\\lib\\site-packages\\seaborn\\_decorators.py:36: FutureWarning: Pass the following variable as a keyword arg: x. From version 0.12, the only valid positional argument will be `data`, and passing other arguments without an explicit keyword will result in an error or misinterpretation.\n",
      "  warnings.warn(\n"
     ]
    },
    {
     "data": {
      "text/plain": [
       "<AxesSubplot:xlabel='Customer Rating (#)', ylabel='count'>"
      ]
     },
     "execution_count": 17,
     "metadata": {},
     "output_type": "execute_result"
    },
    {
     "data": {
      "image/png": "[encoded data removed]",
      "text/plain": [
       "<Figure size 864x360 with 1 Axes>"
      ]
     },
     "metadata": {
      "needs_background": "light"
     },
     "output_type": "display_data"
    }
   ],
   "source": [
    "# Visualize distribution\n",
    "plt.rcParams[\"figure.figsize\"] = (12, 5)\n",
    "sns.countplot(data['Customer Rating (#)'], palette = 'rocket', order = [5,4,3,2])"
   ]
  },
  {
   "cell_type": "markdown",
   "id": "513b5c49",
   "metadata": {},
   "source": [
    "### 'Create Date' and 'Completed Date' Variables Exploratory Analysis"
   ]
  },
  {
   "cell_type": "code",
   "execution_count": 19,
   "id": "c7a9fab1",
   "metadata": {},
   "outputs": [],
   "source": [
    "# Check variation in date between first ticket request and last ticket request"
   ]
  },
  {
   "cell_type": "code",
   "execution_count": 20,
   "id": "019bb7fd",
   "metadata": {},
   "outputs": [],
   "source": [
    "# Visualize ‘Create Date’ variable distribution"
   ]
  },
  {
   "cell_type": "code",
   "execution_count": null,
   "id": "371bc3d7",
   "metadata": {},
   "outputs": [],
   "source": []
  }
 ],
 "metadata": {
  "kernelspec": {
   "display_name": "Python 3 (ipykernel)",
   "language": "python",
   "name": "python3"
  },
  "language_info": {
   "codemirror_mode": {
    "name": "ipython",
    "version": 3
   },
   "file_extension": ".py",
   "mimetype": "text/x-python",
   "name": "python",
   "nbconvert_exporter": "python",
   "pygments_lexer": "ipython3",
   "version": "3.9.7"
  }
 },
 "nbformat": 4,
 "nbformat_minor": 5
}
